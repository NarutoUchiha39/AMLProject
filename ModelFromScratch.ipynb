{
  "cells": [
    {
      "cell_type": "code",
      "source": [
        "!pip install optuna"
      ],
      "metadata": {
        "id": "bEy1cvxfslk-",
        "outputId": "9150331d-7abc-4438-9c4d-9a9ac5c271e9",
        "colab": {
          "base_uri": "https://localhost:8080/"
        }
      },
      "execution_count": 1,
      "outputs": [
        {
          "output_type": "stream",
          "name": "stdout",
          "text": [
            "Collecting optuna\n",
            "  Downloading optuna-4.1.0-py3-none-any.whl.metadata (16 kB)\n",
            "Collecting alembic>=1.5.0 (from optuna)\n",
            "  Downloading alembic-1.14.0-py3-none-any.whl.metadata (7.4 kB)\n",
            "Collecting colorlog (from optuna)\n",
            "  Downloading colorlog-6.9.0-py3-none-any.whl.metadata (10 kB)\n",
            "Requirement already satisfied: numpy in /usr/local/lib/python3.10/dist-packages (from optuna) (1.26.4)\n",
            "Requirement already satisfied: packaging>=20.0 in /usr/local/lib/python3.10/dist-packages (from optuna) (24.2)\n",
            "Requirement already satisfied: sqlalchemy>=1.4.2 in /usr/local/lib/python3.10/dist-packages (from optuna) (2.0.36)\n",
            "Requirement already satisfied: tqdm in /usr/local/lib/python3.10/dist-packages (from optuna) (4.67.1)\n",
            "Requirement already satisfied: PyYAML in /usr/local/lib/python3.10/dist-packages (from optuna) (6.0.2)\n",
            "Collecting Mako (from alembic>=1.5.0->optuna)\n",
            "  Downloading Mako-1.3.8-py3-none-any.whl.metadata (2.9 kB)\n",
            "Requirement already satisfied: typing-extensions>=4 in /usr/local/lib/python3.10/dist-packages (from alembic>=1.5.0->optuna) (4.12.2)\n",
            "Requirement already satisfied: greenlet!=0.4.17 in /usr/local/lib/python3.10/dist-packages (from sqlalchemy>=1.4.2->optuna) (3.1.1)\n",
            "Requirement already satisfied: MarkupSafe>=0.9.2 in /usr/local/lib/python3.10/dist-packages (from Mako->alembic>=1.5.0->optuna) (3.0.2)\n",
            "Downloading optuna-4.1.0-py3-none-any.whl (364 kB)\n",
            "\u001b[2K   \u001b[90m━━━━━━━━━━━━━━━━━━━━━━━━━━━━━━━━━━━━━━━━\u001b[0m \u001b[32m364.4/364.4 kB\u001b[0m \u001b[31m19.7 MB/s\u001b[0m eta \u001b[36m0:00:00\u001b[0m\n",
            "\u001b[?25hDownloading alembic-1.14.0-py3-none-any.whl (233 kB)\n",
            "\u001b[2K   \u001b[90m━━━━━━━━━━━━━━━━━━━━━━━━━━━━━━━━━━━━━━━━\u001b[0m \u001b[32m233.5/233.5 kB\u001b[0m \u001b[31m20.0 MB/s\u001b[0m eta \u001b[36m0:00:00\u001b[0m\n",
            "\u001b[?25hDownloading colorlog-6.9.0-py3-none-any.whl (11 kB)\n",
            "Downloading Mako-1.3.8-py3-none-any.whl (78 kB)\n",
            "\u001b[2K   \u001b[90m━━━━━━━━━━━━━━━━━━━━━━━━━━━━━━━━━━━━━━━━\u001b[0m \u001b[32m78.6/78.6 kB\u001b[0m \u001b[31m7.3 MB/s\u001b[0m eta \u001b[36m0:00:00\u001b[0m\n",
            "\u001b[?25hInstalling collected packages: Mako, colorlog, alembic, optuna\n",
            "Successfully installed Mako-1.3.8 alembic-1.14.0 colorlog-6.9.0 optuna-4.1.0\n"
          ]
        }
      ]
    },
    {
      "cell_type": "code",
      "source": [
        "!git clone https://github.com/NarutoUchiha39/AMLProject.git"
      ],
      "metadata": {
        "id": "RiuVz7ntsqru",
        "outputId": "8535fc36-7c24-4165-b055-15daef203a8b",
        "colab": {
          "base_uri": "https://localhost:8080/"
        }
      },
      "execution_count": 2,
      "outputs": [
        {
          "output_type": "stream",
          "name": "stdout",
          "text": [
            "Cloning into 'AMLProject'...\n",
            "remote: Enumerating objects: 10155, done.\u001b[K\n",
            "remote: Counting objects: 100% (44/44), done.\u001b[K\n",
            "remote: Compressing objects: 100% (37/37), done.\u001b[K\n",
            "remote: Total 10155 (delta 3), reused 38 (delta 2), pack-reused 10111 (from 2)\u001b[K\n",
            "Receiving objects: 100% (10155/10155), 110.71 MiB | 12.99 MiB/s, done.\n",
            "Resolving deltas: 100% (119/119), done.\n",
            "Updating files: 100% (10067/10067), done.\n"
          ]
        }
      ]
    },
    {
      "cell_type": "code",
      "source": [
        "cd /content/AMLProject"
      ],
      "metadata": {
        "id": "sRKXhRTDs4MJ",
        "outputId": "0e6bc8fe-be01-4c4f-80b1-0dd0dc8ac357",
        "colab": {
          "base_uri": "https://localhost:8080/"
        }
      },
      "execution_count": 3,
      "outputs": [
        {
          "output_type": "stream",
          "name": "stdout",
          "text": [
            "/content/AMLProject\n"
          ]
        }
      ]
    },
    {
      "cell_type": "code",
      "execution_count": 4,
      "metadata": {
        "id": "-De-MAVZV_MK"
      },
      "outputs": [],
      "source": [
        "import os\n",
        "import glob\n",
        "import numpy as np\n",
        "import pandas as pd\n",
        "import seaborn as sns\n",
        "import matplotlib.pyplot as plt\n",
        "import random\n",
        "from tqdm import tqdm\n",
        "\n",
        "from skimage import io, transform\n",
        "from sklearn.model_selection import train_test_split\n",
        "from sklearn.metrics import  accuracy_score\n",
        "from sklearn.preprocessing import OneHotEncoder\n",
        "import torch\n",
        "import torch.nn as nn\n",
        "import torch.optim as optim\n",
        "import torch.nn.functional as F\n",
        "from torch.utils.data import Dataset, DataLoader\n",
        "from torchsummary import summary\n",
        "import torch.optim as optim\n",
        "from torch.autograd import Variable\n",
        "import torchvision\n",
        "from torchvision import models,transforms\n",
        "\n",
        "from Dataloaders.HAM10000Dataset import HAM10000Dataset\n",
        "from functions import normalization, Model_functions\n",
        "\n",
        "import time\n",
        "\n",
        "import random\n",
        "from PIL import Image\n",
        "import cv2\n",
        "import gc\n",
        "import optuna\n",
        "import logging"
      ]
    },
    {
      "cell_type": "code",
      "source": [
        "from google.colab import drive\n",
        "drive.mount('/content/drive')"
      ],
      "metadata": {
        "id": "pTMBiuhcsT0c",
        "outputId": "3b05aac1-9cff-4967-fbb8-047052e57ab1",
        "colab": {
          "base_uri": "https://localhost:8080/"
        }
      },
      "execution_count": 5,
      "outputs": [
        {
          "output_type": "stream",
          "name": "stdout",
          "text": [
            "Mounted at /content/drive\n"
          ]
        }
      ]
    },
    {
      "cell_type": "code",
      "execution_count": 18,
      "metadata": {
        "id": "v3fOzBZoV_ML"
      },
      "outputs": [],
      "source": [
        "data = pd.read_csv('HAM10000_metadata.csv')\n",
        "path = os.path.join(\"DLModel\",\"segmented_images\")\n",
        "\n",
        "dict1 = {\"image_path\":[]}\n",
        "for i in data.columns.values:\n",
        "    dict1[i] = list(data[i])\n",
        "\n",
        "for i in dict1[\"image_id\"]:\n",
        "    dict1[\"image_path\"].append(os.path.join(\"DLModel\",\"segmented_images\",i+\".jpg\"))"
      ]
    },
    {
      "cell_type": "code",
      "execution_count": 19,
      "metadata": {
        "id": "fZZiTUsvV_ML"
      },
      "outputs": [],
      "source": [
        "oneHot = OneHotEncoder()\n",
        "l = []\n",
        "res = oneHot.fit_transform(data[\"dx\"].to_frame()).toarray()\n",
        "for i in res:\n",
        "    l.append(i.argmax())\n",
        "\n",
        "dict1[\"dx_cat\"] = l\n",
        "data = pd.concat([pd.Series(v,name=k) for k,v in dict1.items()],axis=1)"
      ]
    },
    {
      "cell_type": "code",
      "execution_count": 20,
      "metadata": {
        "id": "OjxJZvXSV_MM",
        "outputId": "3a1ce42f-bd6e-45ae-fef4-3e2ef2eee9fc",
        "colab": {
          "base_uri": "https://localhost:8080/",
          "height": 444
        }
      },
      "outputs": [
        {
          "output_type": "execute_result",
          "data": {
            "text/plain": [
              "                                      image_path    lesion_id      image_id  \\\n",
              "0      DLModel/segmented_images/ISIC_0027419.jpg  HAM_0000118  ISIC_0027419   \n",
              "1      DLModel/segmented_images/ISIC_0025030.jpg  HAM_0000118  ISIC_0025030   \n",
              "2      DLModel/segmented_images/ISIC_0026769.jpg  HAM_0002730  ISIC_0026769   \n",
              "3      DLModel/segmented_images/ISIC_0025661.jpg  HAM_0002730  ISIC_0025661   \n",
              "4      DLModel/segmented_images/ISIC_0031633.jpg  HAM_0001466  ISIC_0031633   \n",
              "...                                          ...          ...           ...   \n",
              "10010  DLModel/segmented_images/ISIC_0033084.jpg  HAM_0002867  ISIC_0033084   \n",
              "10011  DLModel/segmented_images/ISIC_0033550.jpg  HAM_0002867  ISIC_0033550   \n",
              "10012  DLModel/segmented_images/ISIC_0033536.jpg  HAM_0002867  ISIC_0033536   \n",
              "10013  DLModel/segmented_images/ISIC_0032854.jpg  HAM_0000239  ISIC_0032854   \n",
              "10014  DLModel/segmented_images/ISIC_0032258.jpg  HAM_0003521  ISIC_0032258   \n",
              "\n",
              "          dx dx_type   age     sex localization  dx_cat  \n",
              "0        bkl   histo  80.0    male        scalp       2  \n",
              "1        bkl   histo  80.0    male        scalp       2  \n",
              "2        bkl   histo  80.0    male        scalp       2  \n",
              "3        bkl   histo  80.0    male        scalp       2  \n",
              "4        bkl   histo  75.0    male          ear       2  \n",
              "...      ...     ...   ...     ...          ...     ...  \n",
              "10010  akiec   histo  40.0    male      abdomen       0  \n",
              "10011  akiec   histo  40.0    male      abdomen       0  \n",
              "10012  akiec   histo  40.0    male      abdomen       0  \n",
              "10013  akiec   histo  80.0    male         face       0  \n",
              "10014    mel   histo  70.0  female         back       4  \n",
              "\n",
              "[10015 rows x 9 columns]"
            ],
            "text/html": [
              "\n",
              "  <div id=\"df-9256c257-ab46-41a7-bb3f-0b15c0ee68b9\" class=\"colab-df-container\">\n",
              "    <div>\n",
              "<style scoped>\n",
              "    .dataframe tbody tr th:only-of-type {\n",
              "        vertical-align: middle;\n",
              "    }\n",
              "\n",
              "    .dataframe tbody tr th {\n",
              "        vertical-align: top;\n",
              "    }\n",
              "\n",
              "    .dataframe thead th {\n",
              "        text-align: right;\n",
              "    }\n",
              "</style>\n",
              "<table border=\"1\" class=\"dataframe\">\n",
              "  <thead>\n",
              "    <tr style=\"text-align: right;\">\n",
              "      <th></th>\n",
              "      <th>image_path</th>\n",
              "      <th>lesion_id</th>\n",
              "      <th>image_id</th>\n",
              "      <th>dx</th>\n",
              "      <th>dx_type</th>\n",
              "      <th>age</th>\n",
              "      <th>sex</th>\n",
              "      <th>localization</th>\n",
              "      <th>dx_cat</th>\n",
              "    </tr>\n",
              "  </thead>\n",
              "  <tbody>\n",
              "    <tr>\n",
              "      <th>0</th>\n",
              "      <td>DLModel/segmented_images/ISIC_0027419.jpg</td>\n",
              "      <td>HAM_0000118</td>\n",
              "      <td>ISIC_0027419</td>\n",
              "      <td>bkl</td>\n",
              "      <td>histo</td>\n",
              "      <td>80.0</td>\n",
              "      <td>male</td>\n",
              "      <td>scalp</td>\n",
              "      <td>2</td>\n",
              "    </tr>\n",
              "    <tr>\n",
              "      <th>1</th>\n",
              "      <td>DLModel/segmented_images/ISIC_0025030.jpg</td>\n",
              "      <td>HAM_0000118</td>\n",
              "      <td>ISIC_0025030</td>\n",
              "      <td>bkl</td>\n",
              "      <td>histo</td>\n",
              "      <td>80.0</td>\n",
              "      <td>male</td>\n",
              "      <td>scalp</td>\n",
              "      <td>2</td>\n",
              "    </tr>\n",
              "    <tr>\n",
              "      <th>2</th>\n",
              "      <td>DLModel/segmented_images/ISIC_0026769.jpg</td>\n",
              "      <td>HAM_0002730</td>\n",
              "      <td>ISIC_0026769</td>\n",
              "      <td>bkl</td>\n",
              "      <td>histo</td>\n",
              "      <td>80.0</td>\n",
              "      <td>male</td>\n",
              "      <td>scalp</td>\n",
              "      <td>2</td>\n",
              "    </tr>\n",
              "    <tr>\n",
              "      <th>3</th>\n",
              "      <td>DLModel/segmented_images/ISIC_0025661.jpg</td>\n",
              "      <td>HAM_0002730</td>\n",
              "      <td>ISIC_0025661</td>\n",
              "      <td>bkl</td>\n",
              "      <td>histo</td>\n",
              "      <td>80.0</td>\n",
              "      <td>male</td>\n",
              "      <td>scalp</td>\n",
              "      <td>2</td>\n",
              "    </tr>\n",
              "    <tr>\n",
              "      <th>4</th>\n",
              "      <td>DLModel/segmented_images/ISIC_0031633.jpg</td>\n",
              "      <td>HAM_0001466</td>\n",
              "      <td>ISIC_0031633</td>\n",
              "      <td>bkl</td>\n",
              "      <td>histo</td>\n",
              "      <td>75.0</td>\n",
              "      <td>male</td>\n",
              "      <td>ear</td>\n",
              "      <td>2</td>\n",
              "    </tr>\n",
              "    <tr>\n",
              "      <th>...</th>\n",
              "      <td>...</td>\n",
              "      <td>...</td>\n",
              "      <td>...</td>\n",
              "      <td>...</td>\n",
              "      <td>...</td>\n",
              "      <td>...</td>\n",
              "      <td>...</td>\n",
              "      <td>...</td>\n",
              "      <td>...</td>\n",
              "    </tr>\n",
              "    <tr>\n",
              "      <th>10010</th>\n",
              "      <td>DLModel/segmented_images/ISIC_0033084.jpg</td>\n",
              "      <td>HAM_0002867</td>\n",
              "      <td>ISIC_0033084</td>\n",
              "      <td>akiec</td>\n",
              "      <td>histo</td>\n",
              "      <td>40.0</td>\n",
              "      <td>male</td>\n",
              "      <td>abdomen</td>\n",
              "      <td>0</td>\n",
              "    </tr>\n",
              "    <tr>\n",
              "      <th>10011</th>\n",
              "      <td>DLModel/segmented_images/ISIC_0033550.jpg</td>\n",
              "      <td>HAM_0002867</td>\n",
              "      <td>ISIC_0033550</td>\n",
              "      <td>akiec</td>\n",
              "      <td>histo</td>\n",
              "      <td>40.0</td>\n",
              "      <td>male</td>\n",
              "      <td>abdomen</td>\n",
              "      <td>0</td>\n",
              "    </tr>\n",
              "    <tr>\n",
              "      <th>10012</th>\n",
              "      <td>DLModel/segmented_images/ISIC_0033536.jpg</td>\n",
              "      <td>HAM_0002867</td>\n",
              "      <td>ISIC_0033536</td>\n",
              "      <td>akiec</td>\n",
              "      <td>histo</td>\n",
              "      <td>40.0</td>\n",
              "      <td>male</td>\n",
              "      <td>abdomen</td>\n",
              "      <td>0</td>\n",
              "    </tr>\n",
              "    <tr>\n",
              "      <th>10013</th>\n",
              "      <td>DLModel/segmented_images/ISIC_0032854.jpg</td>\n",
              "      <td>HAM_0000239</td>\n",
              "      <td>ISIC_0032854</td>\n",
              "      <td>akiec</td>\n",
              "      <td>histo</td>\n",
              "      <td>80.0</td>\n",
              "      <td>male</td>\n",
              "      <td>face</td>\n",
              "      <td>0</td>\n",
              "    </tr>\n",
              "    <tr>\n",
              "      <th>10014</th>\n",
              "      <td>DLModel/segmented_images/ISIC_0032258.jpg</td>\n",
              "      <td>HAM_0003521</td>\n",
              "      <td>ISIC_0032258</td>\n",
              "      <td>mel</td>\n",
              "      <td>histo</td>\n",
              "      <td>70.0</td>\n",
              "      <td>female</td>\n",
              "      <td>back</td>\n",
              "      <td>4</td>\n",
              "    </tr>\n",
              "  </tbody>\n",
              "</table>\n",
              "<p>10015 rows × 9 columns</p>\n",
              "</div>\n",
              "    <div class=\"colab-df-buttons\">\n",
              "\n",
              "  <div class=\"colab-df-container\">\n",
              "    <button class=\"colab-df-convert\" onclick=\"convertToInteractive('df-9256c257-ab46-41a7-bb3f-0b15c0ee68b9')\"\n",
              "            title=\"Convert this dataframe to an interactive table.\"\n",
              "            style=\"display:none;\">\n",
              "\n",
              "  <svg xmlns=\"http://www.w3.org/2000/svg\" height=\"24px\" viewBox=\"0 -960 960 960\">\n",
              "    <path d=\"M120-120v-720h720v720H120Zm60-500h600v-160H180v160Zm220 220h160v-160H400v160Zm0 220h160v-160H400v160ZM180-400h160v-160H180v160Zm440 0h160v-160H620v160ZM180-180h160v-160H180v160Zm440 0h160v-160H620v160Z\"/>\n",
              "  </svg>\n",
              "    </button>\n",
              "\n",
              "  <style>\n",
              "    .colab-df-container {\n",
              "      display:flex;\n",
              "      gap: 12px;\n",
              "    }\n",
              "\n",
              "    .colab-df-convert {\n",
              "      background-color: #E8F0FE;\n",
              "      border: none;\n",
              "      border-radius: 50%;\n",
              "      cursor: pointer;\n",
              "      display: none;\n",
              "      fill: #1967D2;\n",
              "      height: 32px;\n",
              "      padding: 0 0 0 0;\n",
              "      width: 32px;\n",
              "    }\n",
              "\n",
              "    .colab-df-convert:hover {\n",
              "      background-color: #E2EBFA;\n",
              "      box-shadow: 0px 1px 2px rgba(60, 64, 67, 0.3), 0px 1px 3px 1px rgba(60, 64, 67, 0.15);\n",
              "      fill: #174EA6;\n",
              "    }\n",
              "\n",
              "    .colab-df-buttons div {\n",
              "      margin-bottom: 4px;\n",
              "    }\n",
              "\n",
              "    [theme=dark] .colab-df-convert {\n",
              "      background-color: #3B4455;\n",
              "      fill: #D2E3FC;\n",
              "    }\n",
              "\n",
              "    [theme=dark] .colab-df-convert:hover {\n",
              "      background-color: #434B5C;\n",
              "      box-shadow: 0px 1px 3px 1px rgba(0, 0, 0, 0.15);\n",
              "      filter: drop-shadow(0px 1px 2px rgba(0, 0, 0, 0.3));\n",
              "      fill: #FFFFFF;\n",
              "    }\n",
              "  </style>\n",
              "\n",
              "    <script>\n",
              "      const buttonEl =\n",
              "        document.querySelector('#df-9256c257-ab46-41a7-bb3f-0b15c0ee68b9 button.colab-df-convert');\n",
              "      buttonEl.style.display =\n",
              "        google.colab.kernel.accessAllowed ? 'block' : 'none';\n",
              "\n",
              "      async function convertToInteractive(key) {\n",
              "        const element = document.querySelector('#df-9256c257-ab46-41a7-bb3f-0b15c0ee68b9');\n",
              "        const dataTable =\n",
              "          await google.colab.kernel.invokeFunction('convertToInteractive',\n",
              "                                                    [key], {});\n",
              "        if (!dataTable) return;\n",
              "\n",
              "        const docLinkHtml = 'Like what you see? Visit the ' +\n",
              "          '<a target=\"_blank\" href=https://colab.research.google.com/notebooks/data_table.ipynb>data table notebook</a>'\n",
              "          + ' to learn more about interactive tables.';\n",
              "        element.innerHTML = '';\n",
              "        dataTable['output_type'] = 'display_data';\n",
              "        await google.colab.output.renderOutput(dataTable, element);\n",
              "        const docLink = document.createElement('div');\n",
              "        docLink.innerHTML = docLinkHtml;\n",
              "        element.appendChild(docLink);\n",
              "      }\n",
              "    </script>\n",
              "  </div>\n",
              "\n",
              "\n",
              "<div id=\"df-46e82401-74f1-4d19-be7a-b6db8b7a68fb\">\n",
              "  <button class=\"colab-df-quickchart\" onclick=\"quickchart('df-46e82401-74f1-4d19-be7a-b6db8b7a68fb')\"\n",
              "            title=\"Suggest charts\"\n",
              "            style=\"display:none;\">\n",
              "\n",
              "<svg xmlns=\"http://www.w3.org/2000/svg\" height=\"24px\"viewBox=\"0 0 24 24\"\n",
              "     width=\"24px\">\n",
              "    <g>\n",
              "        <path d=\"M19 3H5c-1.1 0-2 .9-2 2v14c0 1.1.9 2 2 2h14c1.1 0 2-.9 2-2V5c0-1.1-.9-2-2-2zM9 17H7v-7h2v7zm4 0h-2V7h2v10zm4 0h-2v-4h2v4z\"/>\n",
              "    </g>\n",
              "</svg>\n",
              "  </button>\n",
              "\n",
              "<style>\n",
              "  .colab-df-quickchart {\n",
              "      --bg-color: #E8F0FE;\n",
              "      --fill-color: #1967D2;\n",
              "      --hover-bg-color: #E2EBFA;\n",
              "      --hover-fill-color: #174EA6;\n",
              "      --disabled-fill-color: #AAA;\n",
              "      --disabled-bg-color: #DDD;\n",
              "  }\n",
              "\n",
              "  [theme=dark] .colab-df-quickchart {\n",
              "      --bg-color: #3B4455;\n",
              "      --fill-color: #D2E3FC;\n",
              "      --hover-bg-color: #434B5C;\n",
              "      --hover-fill-color: #FFFFFF;\n",
              "      --disabled-bg-color: #3B4455;\n",
              "      --disabled-fill-color: #666;\n",
              "  }\n",
              "\n",
              "  .colab-df-quickchart {\n",
              "    background-color: var(--bg-color);\n",
              "    border: none;\n",
              "    border-radius: 50%;\n",
              "    cursor: pointer;\n",
              "    display: none;\n",
              "    fill: var(--fill-color);\n",
              "    height: 32px;\n",
              "    padding: 0;\n",
              "    width: 32px;\n",
              "  }\n",
              "\n",
              "  .colab-df-quickchart:hover {\n",
              "    background-color: var(--hover-bg-color);\n",
              "    box-shadow: 0 1px 2px rgba(60, 64, 67, 0.3), 0 1px 3px 1px rgba(60, 64, 67, 0.15);\n",
              "    fill: var(--button-hover-fill-color);\n",
              "  }\n",
              "\n",
              "  .colab-df-quickchart-complete:disabled,\n",
              "  .colab-df-quickchart-complete:disabled:hover {\n",
              "    background-color: var(--disabled-bg-color);\n",
              "    fill: var(--disabled-fill-color);\n",
              "    box-shadow: none;\n",
              "  }\n",
              "\n",
              "  .colab-df-spinner {\n",
              "    border: 2px solid var(--fill-color);\n",
              "    border-color: transparent;\n",
              "    border-bottom-color: var(--fill-color);\n",
              "    animation:\n",
              "      spin 1s steps(1) infinite;\n",
              "  }\n",
              "\n",
              "  @keyframes spin {\n",
              "    0% {\n",
              "      border-color: transparent;\n",
              "      border-bottom-color: var(--fill-color);\n",
              "      border-left-color: var(--fill-color);\n",
              "    }\n",
              "    20% {\n",
              "      border-color: transparent;\n",
              "      border-left-color: var(--fill-color);\n",
              "      border-top-color: var(--fill-color);\n",
              "    }\n",
              "    30% {\n",
              "      border-color: transparent;\n",
              "      border-left-color: var(--fill-color);\n",
              "      border-top-color: var(--fill-color);\n",
              "      border-right-color: var(--fill-color);\n",
              "    }\n",
              "    40% {\n",
              "      border-color: transparent;\n",
              "      border-right-color: var(--fill-color);\n",
              "      border-top-color: var(--fill-color);\n",
              "    }\n",
              "    60% {\n",
              "      border-color: transparent;\n",
              "      border-right-color: var(--fill-color);\n",
              "    }\n",
              "    80% {\n",
              "      border-color: transparent;\n",
              "      border-right-color: var(--fill-color);\n",
              "      border-bottom-color: var(--fill-color);\n",
              "    }\n",
              "    90% {\n",
              "      border-color: transparent;\n",
              "      border-bottom-color: var(--fill-color);\n",
              "    }\n",
              "  }\n",
              "</style>\n",
              "\n",
              "  <script>\n",
              "    async function quickchart(key) {\n",
              "      const quickchartButtonEl =\n",
              "        document.querySelector('#' + key + ' button');\n",
              "      quickchartButtonEl.disabled = true;  // To prevent multiple clicks.\n",
              "      quickchartButtonEl.classList.add('colab-df-spinner');\n",
              "      try {\n",
              "        const charts = await google.colab.kernel.invokeFunction(\n",
              "            'suggestCharts', [key], {});\n",
              "      } catch (error) {\n",
              "        console.error('Error during call to suggestCharts:', error);\n",
              "      }\n",
              "      quickchartButtonEl.classList.remove('colab-df-spinner');\n",
              "      quickchartButtonEl.classList.add('colab-df-quickchart-complete');\n",
              "    }\n",
              "    (() => {\n",
              "      let quickchartButtonEl =\n",
              "        document.querySelector('#df-46e82401-74f1-4d19-be7a-b6db8b7a68fb button');\n",
              "      quickchartButtonEl.style.display =\n",
              "        google.colab.kernel.accessAllowed ? 'block' : 'none';\n",
              "    })();\n",
              "  </script>\n",
              "</div>\n",
              "\n",
              "  <div id=\"id_137a586c-14c3-4d56-b9cd-8024dc7bb8e3\">\n",
              "    <style>\n",
              "      .colab-df-generate {\n",
              "        background-color: #E8F0FE;\n",
              "        border: none;\n",
              "        border-radius: 50%;\n",
              "        cursor: pointer;\n",
              "        display: none;\n",
              "        fill: #1967D2;\n",
              "        height: 32px;\n",
              "        padding: 0 0 0 0;\n",
              "        width: 32px;\n",
              "      }\n",
              "\n",
              "      .colab-df-generate:hover {\n",
              "        background-color: #E2EBFA;\n",
              "        box-shadow: 0px 1px 2px rgba(60, 64, 67, 0.3), 0px 1px 3px 1px rgba(60, 64, 67, 0.15);\n",
              "        fill: #174EA6;\n",
              "      }\n",
              "\n",
              "      [theme=dark] .colab-df-generate {\n",
              "        background-color: #3B4455;\n",
              "        fill: #D2E3FC;\n",
              "      }\n",
              "\n",
              "      [theme=dark] .colab-df-generate:hover {\n",
              "        background-color: #434B5C;\n",
              "        box-shadow: 0px 1px 3px 1px rgba(0, 0, 0, 0.15);\n",
              "        filter: drop-shadow(0px 1px 2px rgba(0, 0, 0, 0.3));\n",
              "        fill: #FFFFFF;\n",
              "      }\n",
              "    </style>\n",
              "    <button class=\"colab-df-generate\" onclick=\"generateWithVariable('data')\"\n",
              "            title=\"Generate code using this dataframe.\"\n",
              "            style=\"display:none;\">\n",
              "\n",
              "  <svg xmlns=\"http://www.w3.org/2000/svg\" height=\"24px\"viewBox=\"0 0 24 24\"\n",
              "       width=\"24px\">\n",
              "    <path d=\"M7,19H8.4L18.45,9,17,7.55,7,17.6ZM5,21V16.75L18.45,3.32a2,2,0,0,1,2.83,0l1.4,1.43a1.91,1.91,0,0,1,.58,1.4,1.91,1.91,0,0,1-.58,1.4L9.25,21ZM18.45,9,17,7.55Zm-12,3A5.31,5.31,0,0,0,4.9,8.1,5.31,5.31,0,0,0,1,6.5,5.31,5.31,0,0,0,4.9,4.9,5.31,5.31,0,0,0,6.5,1,5.31,5.31,0,0,0,8.1,4.9,5.31,5.31,0,0,0,12,6.5,5.46,5.46,0,0,0,6.5,12Z\"/>\n",
              "  </svg>\n",
              "    </button>\n",
              "    <script>\n",
              "      (() => {\n",
              "      const buttonEl =\n",
              "        document.querySelector('#id_137a586c-14c3-4d56-b9cd-8024dc7bb8e3 button.colab-df-generate');\n",
              "      buttonEl.style.display =\n",
              "        google.colab.kernel.accessAllowed ? 'block' : 'none';\n",
              "\n",
              "      buttonEl.onclick = () => {\n",
              "        google.colab.notebook.generateWithVariable('data');\n",
              "      }\n",
              "      })();\n",
              "    </script>\n",
              "  </div>\n",
              "\n",
              "    </div>\n",
              "  </div>\n"
            ],
            "application/vnd.google.colaboratory.intrinsic+json": {
              "type": "dataframe",
              "variable_name": "data",
              "summary": "{\n  \"name\": \"data\",\n  \"rows\": 10015,\n  \"fields\": [\n    {\n      \"column\": \"image_path\",\n      \"properties\": {\n        \"dtype\": \"string\",\n        \"num_unique_values\": 10015,\n        \"samples\": [\n          \"DLModel/segmented_images/ISIC_0033272.jpg\",\n          \"DLModel/segmented_images/ISIC_0031923.jpg\",\n          \"DLModel/segmented_images/ISIC_0026652.jpg\"\n        ],\n        \"semantic_type\": \"\",\n        \"description\": \"\"\n      }\n    },\n    {\n      \"column\": \"lesion_id\",\n      \"properties\": {\n        \"dtype\": \"string\",\n        \"num_unique_values\": 7470,\n        \"samples\": [\n          \"HAM_0002743\",\n          \"HAM_0004142\",\n          \"HAM_0003658\"\n        ],\n        \"semantic_type\": \"\",\n        \"description\": \"\"\n      }\n    },\n    {\n      \"column\": \"image_id\",\n      \"properties\": {\n        \"dtype\": \"string\",\n        \"num_unique_values\": 10015,\n        \"samples\": [\n          \"ISIC_0033272\",\n          \"ISIC_0031923\",\n          \"ISIC_0026652\"\n        ],\n        \"semantic_type\": \"\",\n        \"description\": \"\"\n      }\n    },\n    {\n      \"column\": \"dx\",\n      \"properties\": {\n        \"dtype\": \"category\",\n        \"num_unique_values\": 7,\n        \"samples\": [\n          \"bkl\",\n          \"nv\",\n          \"bcc\"\n        ],\n        \"semantic_type\": \"\",\n        \"description\": \"\"\n      }\n    },\n    {\n      \"column\": \"dx_type\",\n      \"properties\": {\n        \"dtype\": \"category\",\n        \"num_unique_values\": 4,\n        \"samples\": [\n          \"consensus\",\n          \"follow_up\",\n          \"histo\"\n        ],\n        \"semantic_type\": \"\",\n        \"description\": \"\"\n      }\n    },\n    {\n      \"column\": \"age\",\n      \"properties\": {\n        \"dtype\": \"number\",\n        \"std\": 16.96861369249538,\n        \"min\": 0.0,\n        \"max\": 85.0,\n        \"num_unique_values\": 18,\n        \"samples\": [\n          80.0,\n          75.0,\n          50.0\n        ],\n        \"semantic_type\": \"\",\n        \"description\": \"\"\n      }\n    },\n    {\n      \"column\": \"sex\",\n      \"properties\": {\n        \"dtype\": \"category\",\n        \"num_unique_values\": 3,\n        \"samples\": [\n          \"male\",\n          \"female\",\n          \"unknown\"\n        ],\n        \"semantic_type\": \"\",\n        \"description\": \"\"\n      }\n    },\n    {\n      \"column\": \"localization\",\n      \"properties\": {\n        \"dtype\": \"category\",\n        \"num_unique_values\": 15,\n        \"samples\": [\n          \"lower extremity\",\n          \"neck\",\n          \"scalp\"\n        ],\n        \"semantic_type\": \"\",\n        \"description\": \"\"\n      }\n    },\n    {\n      \"column\": \"dx_cat\",\n      \"properties\": {\n        \"dtype\": \"number\",\n        \"std\": 1,\n        \"min\": 0,\n        \"max\": 6,\n        \"num_unique_values\": 7,\n        \"samples\": [\n          2,\n          5,\n          1\n        ],\n        \"semantic_type\": \"\",\n        \"description\": \"\"\n      }\n    }\n  ]\n}"
            }
          },
          "metadata": {},
          "execution_count": 20
        }
      ],
      "source": [
        "data"
      ]
    },
    {
      "cell_type": "markdown",
      "metadata": {
        "id": "vffdxkggV_MM"
      },
      "source": [
        "# Preprocessing"
      ]
    },
    {
      "cell_type": "markdown",
      "metadata": {
        "id": "xx6jF2UgV_MN"
      },
      "source": [
        "**Normalize function**"
      ]
    },
    {
      "cell_type": "code",
      "execution_count": 21,
      "metadata": {
        "id": "l9vVyRlxV_MN"
      },
      "outputs": [],
      "source": [
        "img_h, img_w = 224, 224"
      ]
    },
    {
      "cell_type": "code",
      "execution_count": 22,
      "metadata": {
        "id": "leljDR_nV_MN"
      },
      "outputs": [],
      "source": [
        "# norm_means, norm_std = compute_img_mean_std(data['image_path'],img_h,img_w)"
      ]
    },
    {
      "cell_type": "code",
      "execution_count": 23,
      "metadata": {
        "id": "vnA40B5xV_MO"
      },
      "outputs": [],
      "source": [
        "norm_means = [0.77148203, 0.55764165, 0.58345652]\n",
        "norm_std = [0.12655577, 0.14245141, 0.15189891]"
      ]
    },
    {
      "cell_type": "markdown",
      "metadata": {
        "id": "Ep4YXdqAV_MO"
      },
      "source": [
        "**Data Augmentation and normalization**\n",
        "\n",
        "**Resize the data as 244X244 because most pretrainned models are that size**"
      ]
    },
    {
      "cell_type": "code",
      "execution_count": 24,
      "metadata": {
        "id": "b_q2Rd5nV_MO"
      },
      "outputs": [],
      "source": [
        "# define the transformation of the train images.\n",
        "transform = transforms.Compose([transforms.Resize((img_h,img_w)),transforms.RandomHorizontalFlip(),\n",
        "                                      transforms.RandomVerticalFlip(),transforms.RandomRotation(20),\n",
        "                                      transforms.ColorJitter(brightness=0.1, contrast=0.1, hue=0.1),\n",
        "                                        transforms.ToTensor(), transforms.Normalize(norm_means, norm_std)])\n",
        "# define the transformation of the val and test images.\n",
        "val_test_transform = transforms.Compose([transforms.Resize((img_h,img_w)), transforms.ToTensor(),\n",
        "                                        transforms.Normalize(norm_means, norm_std)])"
      ]
    },
    {
      "cell_type": "code",
      "execution_count": 25,
      "metadata": {
        "id": "YPsESk70V_MP",
        "outputId": "494ebde1-ad68-4965-d637-890734922ff0",
        "colab": {
          "base_uri": "https://localhost:8080/",
          "height": 226
        }
      },
      "outputs": [
        {
          "output_type": "execute_result",
          "data": {
            "text/plain": [
              "                                  image_path    lesion_id      image_id   dx  \\\n",
              "0  DLModel/segmented_images/ISIC_0027419.jpg  HAM_0000118  ISIC_0027419  bkl   \n",
              "1  DLModel/segmented_images/ISIC_0025030.jpg  HAM_0000118  ISIC_0025030  bkl   \n",
              "2  DLModel/segmented_images/ISIC_0026769.jpg  HAM_0002730  ISIC_0026769  bkl   \n",
              "3  DLModel/segmented_images/ISIC_0025661.jpg  HAM_0002730  ISIC_0025661  bkl   \n",
              "4  DLModel/segmented_images/ISIC_0031633.jpg  HAM_0001466  ISIC_0031633  bkl   \n",
              "\n",
              "  dx_type   age   sex localization  dx_cat  \n",
              "0   histo  80.0  male        scalp       2  \n",
              "1   histo  80.0  male        scalp       2  \n",
              "2   histo  80.0  male        scalp       2  \n",
              "3   histo  80.0  male        scalp       2  \n",
              "4   histo  75.0  male          ear       2  "
            ],
            "text/html": [
              "\n",
              "  <div id=\"df-a244d078-48d5-41f4-95ca-62780e699c59\" class=\"colab-df-container\">\n",
              "    <div>\n",
              "<style scoped>\n",
              "    .dataframe tbody tr th:only-of-type {\n",
              "        vertical-align: middle;\n",
              "    }\n",
              "\n",
              "    .dataframe tbody tr th {\n",
              "        vertical-align: top;\n",
              "    }\n",
              "\n",
              "    .dataframe thead th {\n",
              "        text-align: right;\n",
              "    }\n",
              "</style>\n",
              "<table border=\"1\" class=\"dataframe\">\n",
              "  <thead>\n",
              "    <tr style=\"text-align: right;\">\n",
              "      <th></th>\n",
              "      <th>image_path</th>\n",
              "      <th>lesion_id</th>\n",
              "      <th>image_id</th>\n",
              "      <th>dx</th>\n",
              "      <th>dx_type</th>\n",
              "      <th>age</th>\n",
              "      <th>sex</th>\n",
              "      <th>localization</th>\n",
              "      <th>dx_cat</th>\n",
              "    </tr>\n",
              "  </thead>\n",
              "  <tbody>\n",
              "    <tr>\n",
              "      <th>0</th>\n",
              "      <td>DLModel/segmented_images/ISIC_0027419.jpg</td>\n",
              "      <td>HAM_0000118</td>\n",
              "      <td>ISIC_0027419</td>\n",
              "      <td>bkl</td>\n",
              "      <td>histo</td>\n",
              "      <td>80.0</td>\n",
              "      <td>male</td>\n",
              "      <td>scalp</td>\n",
              "      <td>2</td>\n",
              "    </tr>\n",
              "    <tr>\n",
              "      <th>1</th>\n",
              "      <td>DLModel/segmented_images/ISIC_0025030.jpg</td>\n",
              "      <td>HAM_0000118</td>\n",
              "      <td>ISIC_0025030</td>\n",
              "      <td>bkl</td>\n",
              "      <td>histo</td>\n",
              "      <td>80.0</td>\n",
              "      <td>male</td>\n",
              "      <td>scalp</td>\n",
              "      <td>2</td>\n",
              "    </tr>\n",
              "    <tr>\n",
              "      <th>2</th>\n",
              "      <td>DLModel/segmented_images/ISIC_0026769.jpg</td>\n",
              "      <td>HAM_0002730</td>\n",
              "      <td>ISIC_0026769</td>\n",
              "      <td>bkl</td>\n",
              "      <td>histo</td>\n",
              "      <td>80.0</td>\n",
              "      <td>male</td>\n",
              "      <td>scalp</td>\n",
              "      <td>2</td>\n",
              "    </tr>\n",
              "    <tr>\n",
              "      <th>3</th>\n",
              "      <td>DLModel/segmented_images/ISIC_0025661.jpg</td>\n",
              "      <td>HAM_0002730</td>\n",
              "      <td>ISIC_0025661</td>\n",
              "      <td>bkl</td>\n",
              "      <td>histo</td>\n",
              "      <td>80.0</td>\n",
              "      <td>male</td>\n",
              "      <td>scalp</td>\n",
              "      <td>2</td>\n",
              "    </tr>\n",
              "    <tr>\n",
              "      <th>4</th>\n",
              "      <td>DLModel/segmented_images/ISIC_0031633.jpg</td>\n",
              "      <td>HAM_0001466</td>\n",
              "      <td>ISIC_0031633</td>\n",
              "      <td>bkl</td>\n",
              "      <td>histo</td>\n",
              "      <td>75.0</td>\n",
              "      <td>male</td>\n",
              "      <td>ear</td>\n",
              "      <td>2</td>\n",
              "    </tr>\n",
              "  </tbody>\n",
              "</table>\n",
              "</div>\n",
              "    <div class=\"colab-df-buttons\">\n",
              "\n",
              "  <div class=\"colab-df-container\">\n",
              "    <button class=\"colab-df-convert\" onclick=\"convertToInteractive('df-a244d078-48d5-41f4-95ca-62780e699c59')\"\n",
              "            title=\"Convert this dataframe to an interactive table.\"\n",
              "            style=\"display:none;\">\n",
              "\n",
              "  <svg xmlns=\"http://www.w3.org/2000/svg\" height=\"24px\" viewBox=\"0 -960 960 960\">\n",
              "    <path d=\"M120-120v-720h720v720H120Zm60-500h600v-160H180v160Zm220 220h160v-160H400v160Zm0 220h160v-160H400v160ZM180-400h160v-160H180v160Zm440 0h160v-160H620v160ZM180-180h160v-160H180v160Zm440 0h160v-160H620v160Z\"/>\n",
              "  </svg>\n",
              "    </button>\n",
              "\n",
              "  <style>\n",
              "    .colab-df-container {\n",
              "      display:flex;\n",
              "      gap: 12px;\n",
              "    }\n",
              "\n",
              "    .colab-df-convert {\n",
              "      background-color: #E8F0FE;\n",
              "      border: none;\n",
              "      border-radius: 50%;\n",
              "      cursor: pointer;\n",
              "      display: none;\n",
              "      fill: #1967D2;\n",
              "      height: 32px;\n",
              "      padding: 0 0 0 0;\n",
              "      width: 32px;\n",
              "    }\n",
              "\n",
              "    .colab-df-convert:hover {\n",
              "      background-color: #E2EBFA;\n",
              "      box-shadow: 0px 1px 2px rgba(60, 64, 67, 0.3), 0px 1px 3px 1px rgba(60, 64, 67, 0.15);\n",
              "      fill: #174EA6;\n",
              "    }\n",
              "\n",
              "    .colab-df-buttons div {\n",
              "      margin-bottom: 4px;\n",
              "    }\n",
              "\n",
              "    [theme=dark] .colab-df-convert {\n",
              "      background-color: #3B4455;\n",
              "      fill: #D2E3FC;\n",
              "    }\n",
              "\n",
              "    [theme=dark] .colab-df-convert:hover {\n",
              "      background-color: #434B5C;\n",
              "      box-shadow: 0px 1px 3px 1px rgba(0, 0, 0, 0.15);\n",
              "      filter: drop-shadow(0px 1px 2px rgba(0, 0, 0, 0.3));\n",
              "      fill: #FFFFFF;\n",
              "    }\n",
              "  </style>\n",
              "\n",
              "    <script>\n",
              "      const buttonEl =\n",
              "        document.querySelector('#df-a244d078-48d5-41f4-95ca-62780e699c59 button.colab-df-convert');\n",
              "      buttonEl.style.display =\n",
              "        google.colab.kernel.accessAllowed ? 'block' : 'none';\n",
              "\n",
              "      async function convertToInteractive(key) {\n",
              "        const element = document.querySelector('#df-a244d078-48d5-41f4-95ca-62780e699c59');\n",
              "        const dataTable =\n",
              "          await google.colab.kernel.invokeFunction('convertToInteractive',\n",
              "                                                    [key], {});\n",
              "        if (!dataTable) return;\n",
              "\n",
              "        const docLinkHtml = 'Like what you see? Visit the ' +\n",
              "          '<a target=\"_blank\" href=https://colab.research.google.com/notebooks/data_table.ipynb>data table notebook</a>'\n",
              "          + ' to learn more about interactive tables.';\n",
              "        element.innerHTML = '';\n",
              "        dataTable['output_type'] = 'display_data';\n",
              "        await google.colab.output.renderOutput(dataTable, element);\n",
              "        const docLink = document.createElement('div');\n",
              "        docLink.innerHTML = docLinkHtml;\n",
              "        element.appendChild(docLink);\n",
              "      }\n",
              "    </script>\n",
              "  </div>\n",
              "\n",
              "\n",
              "<div id=\"df-bdce76c8-628c-4289-8e08-05208877d67e\">\n",
              "  <button class=\"colab-df-quickchart\" onclick=\"quickchart('df-bdce76c8-628c-4289-8e08-05208877d67e')\"\n",
              "            title=\"Suggest charts\"\n",
              "            style=\"display:none;\">\n",
              "\n",
              "<svg xmlns=\"http://www.w3.org/2000/svg\" height=\"24px\"viewBox=\"0 0 24 24\"\n",
              "     width=\"24px\">\n",
              "    <g>\n",
              "        <path d=\"M19 3H5c-1.1 0-2 .9-2 2v14c0 1.1.9 2 2 2h14c1.1 0 2-.9 2-2V5c0-1.1-.9-2-2-2zM9 17H7v-7h2v7zm4 0h-2V7h2v10zm4 0h-2v-4h2v4z\"/>\n",
              "    </g>\n",
              "</svg>\n",
              "  </button>\n",
              "\n",
              "<style>\n",
              "  .colab-df-quickchart {\n",
              "      --bg-color: #E8F0FE;\n",
              "      --fill-color: #1967D2;\n",
              "      --hover-bg-color: #E2EBFA;\n",
              "      --hover-fill-color: #174EA6;\n",
              "      --disabled-fill-color: #AAA;\n",
              "      --disabled-bg-color: #DDD;\n",
              "  }\n",
              "\n",
              "  [theme=dark] .colab-df-quickchart {\n",
              "      --bg-color: #3B4455;\n",
              "      --fill-color: #D2E3FC;\n",
              "      --hover-bg-color: #434B5C;\n",
              "      --hover-fill-color: #FFFFFF;\n",
              "      --disabled-bg-color: #3B4455;\n",
              "      --disabled-fill-color: #666;\n",
              "  }\n",
              "\n",
              "  .colab-df-quickchart {\n",
              "    background-color: var(--bg-color);\n",
              "    border: none;\n",
              "    border-radius: 50%;\n",
              "    cursor: pointer;\n",
              "    display: none;\n",
              "    fill: var(--fill-color);\n",
              "    height: 32px;\n",
              "    padding: 0;\n",
              "    width: 32px;\n",
              "  }\n",
              "\n",
              "  .colab-df-quickchart:hover {\n",
              "    background-color: var(--hover-bg-color);\n",
              "    box-shadow: 0 1px 2px rgba(60, 64, 67, 0.3), 0 1px 3px 1px rgba(60, 64, 67, 0.15);\n",
              "    fill: var(--button-hover-fill-color);\n",
              "  }\n",
              "\n",
              "  .colab-df-quickchart-complete:disabled,\n",
              "  .colab-df-quickchart-complete:disabled:hover {\n",
              "    background-color: var(--disabled-bg-color);\n",
              "    fill: var(--disabled-fill-color);\n",
              "    box-shadow: none;\n",
              "  }\n",
              "\n",
              "  .colab-df-spinner {\n",
              "    border: 2px solid var(--fill-color);\n",
              "    border-color: transparent;\n",
              "    border-bottom-color: var(--fill-color);\n",
              "    animation:\n",
              "      spin 1s steps(1) infinite;\n",
              "  }\n",
              "\n",
              "  @keyframes spin {\n",
              "    0% {\n",
              "      border-color: transparent;\n",
              "      border-bottom-color: var(--fill-color);\n",
              "      border-left-color: var(--fill-color);\n",
              "    }\n",
              "    20% {\n",
              "      border-color: transparent;\n",
              "      border-left-color: var(--fill-color);\n",
              "      border-top-color: var(--fill-color);\n",
              "    }\n",
              "    30% {\n",
              "      border-color: transparent;\n",
              "      border-left-color: var(--fill-color);\n",
              "      border-top-color: var(--fill-color);\n",
              "      border-right-color: var(--fill-color);\n",
              "    }\n",
              "    40% {\n",
              "      border-color: transparent;\n",
              "      border-right-color: var(--fill-color);\n",
              "      border-top-color: var(--fill-color);\n",
              "    }\n",
              "    60% {\n",
              "      border-color: transparent;\n",
              "      border-right-color: var(--fill-color);\n",
              "    }\n",
              "    80% {\n",
              "      border-color: transparent;\n",
              "      border-right-color: var(--fill-color);\n",
              "      border-bottom-color: var(--fill-color);\n",
              "    }\n",
              "    90% {\n",
              "      border-color: transparent;\n",
              "      border-bottom-color: var(--fill-color);\n",
              "    }\n",
              "  }\n",
              "</style>\n",
              "\n",
              "  <script>\n",
              "    async function quickchart(key) {\n",
              "      const quickchartButtonEl =\n",
              "        document.querySelector('#' + key + ' button');\n",
              "      quickchartButtonEl.disabled = true;  // To prevent multiple clicks.\n",
              "      quickchartButtonEl.classList.add('colab-df-spinner');\n",
              "      try {\n",
              "        const charts = await google.colab.kernel.invokeFunction(\n",
              "            'suggestCharts', [key], {});\n",
              "      } catch (error) {\n",
              "        console.error('Error during call to suggestCharts:', error);\n",
              "      }\n",
              "      quickchartButtonEl.classList.remove('colab-df-spinner');\n",
              "      quickchartButtonEl.classList.add('colab-df-quickchart-complete');\n",
              "    }\n",
              "    (() => {\n",
              "      let quickchartButtonEl =\n",
              "        document.querySelector('#df-bdce76c8-628c-4289-8e08-05208877d67e button');\n",
              "      quickchartButtonEl.style.display =\n",
              "        google.colab.kernel.accessAllowed ? 'block' : 'none';\n",
              "    })();\n",
              "  </script>\n",
              "</div>\n",
              "\n",
              "    </div>\n",
              "  </div>\n"
            ],
            "application/vnd.google.colaboratory.intrinsic+json": {
              "type": "dataframe",
              "variable_name": "data",
              "summary": "{\n  \"name\": \"data\",\n  \"rows\": 10015,\n  \"fields\": [\n    {\n      \"column\": \"image_path\",\n      \"properties\": {\n        \"dtype\": \"string\",\n        \"num_unique_values\": 10015,\n        \"samples\": [\n          \"DLModel/segmented_images/ISIC_0033272.jpg\",\n          \"DLModel/segmented_images/ISIC_0031923.jpg\",\n          \"DLModel/segmented_images/ISIC_0026652.jpg\"\n        ],\n        \"semantic_type\": \"\",\n        \"description\": \"\"\n      }\n    },\n    {\n      \"column\": \"lesion_id\",\n      \"properties\": {\n        \"dtype\": \"string\",\n        \"num_unique_values\": 7470,\n        \"samples\": [\n          \"HAM_0002743\",\n          \"HAM_0004142\",\n          \"HAM_0003658\"\n        ],\n        \"semantic_type\": \"\",\n        \"description\": \"\"\n      }\n    },\n    {\n      \"column\": \"image_id\",\n      \"properties\": {\n        \"dtype\": \"string\",\n        \"num_unique_values\": 10015,\n        \"samples\": [\n          \"ISIC_0033272\",\n          \"ISIC_0031923\",\n          \"ISIC_0026652\"\n        ],\n        \"semantic_type\": \"\",\n        \"description\": \"\"\n      }\n    },\n    {\n      \"column\": \"dx\",\n      \"properties\": {\n        \"dtype\": \"category\",\n        \"num_unique_values\": 7,\n        \"samples\": [\n          \"bkl\",\n          \"nv\",\n          \"bcc\"\n        ],\n        \"semantic_type\": \"\",\n        \"description\": \"\"\n      }\n    },\n    {\n      \"column\": \"dx_type\",\n      \"properties\": {\n        \"dtype\": \"category\",\n        \"num_unique_values\": 4,\n        \"samples\": [\n          \"consensus\",\n          \"follow_up\",\n          \"histo\"\n        ],\n        \"semantic_type\": \"\",\n        \"description\": \"\"\n      }\n    },\n    {\n      \"column\": \"age\",\n      \"properties\": {\n        \"dtype\": \"number\",\n        \"std\": 16.96861369249538,\n        \"min\": 0.0,\n        \"max\": 85.0,\n        \"num_unique_values\": 18,\n        \"samples\": [\n          80.0,\n          75.0,\n          50.0\n        ],\n        \"semantic_type\": \"\",\n        \"description\": \"\"\n      }\n    },\n    {\n      \"column\": \"sex\",\n      \"properties\": {\n        \"dtype\": \"category\",\n        \"num_unique_values\": 3,\n        \"samples\": [\n          \"male\",\n          \"female\",\n          \"unknown\"\n        ],\n        \"semantic_type\": \"\",\n        \"description\": \"\"\n      }\n    },\n    {\n      \"column\": \"localization\",\n      \"properties\": {\n        \"dtype\": \"category\",\n        \"num_unique_values\": 15,\n        \"samples\": [\n          \"lower extremity\",\n          \"neck\",\n          \"scalp\"\n        ],\n        \"semantic_type\": \"\",\n        \"description\": \"\"\n      }\n    },\n    {\n      \"column\": \"dx_cat\",\n      \"properties\": {\n        \"dtype\": \"number\",\n        \"std\": 1,\n        \"min\": 0,\n        \"max\": 6,\n        \"num_unique_values\": 7,\n        \"samples\": [\n          2,\n          5,\n          1\n        ],\n        \"semantic_type\": \"\",\n        \"description\": \"\"\n      }\n    }\n  ]\n}"
            }
          },
          "metadata": {},
          "execution_count": 25
        }
      ],
      "source": [
        "data.head()"
      ]
    },
    {
      "cell_type": "markdown",
      "metadata": {
        "id": "oVD3RPnsV_MP"
      },
      "source": [
        "**Data Loading**"
      ]
    },
    {
      "cell_type": "code",
      "execution_count": 26,
      "metadata": {
        "id": "ZjVxx8e8V_MP"
      },
      "outputs": [],
      "source": [
        "train_val_data, test_data = train_test_split(data, test_size=0.2, random_state=42)\n",
        "\n",
        "train_data, val_data = train_test_split(train_val_data, test_size=0.5, random_state=42)\n",
        "\n",
        "train_dataset = HAM10000Dataset(train_data, transform=transform)\n",
        "val_dataset = HAM10000Dataset(val_data, transform=transform)\n",
        "test_dataset = HAM10000Dataset(test_data, transform=transform)"
      ]
    },
    {
      "cell_type": "code",
      "execution_count": 27,
      "metadata": {
        "id": "3ke1widwV_MQ",
        "outputId": "440d79ce-a6f2-4961-e5fd-1d6b9268dca7",
        "colab": {
          "base_uri": "https://localhost:8080/"
        }
      },
      "outputs": [
        {
          "output_type": "stream",
          "name": "stdout",
          "text": [
            "Data len Train: 4006 Val: 4006 Test: 2003\n"
          ]
        }
      ],
      "source": [
        "batch_size = 64\n",
        "num_workers = 2\n",
        "\n",
        "train_loader = DataLoader(train_dataset, batch_size=batch_size, shuffle=True, num_workers=num_workers)\n",
        "val_loader = DataLoader(val_dataset, batch_size=batch_size, num_workers=num_workers)\n",
        "test_loader = DataLoader(test_dataset, batch_size=batch_size, num_workers=num_workers)\n",
        "\n",
        "print('Data len Train:', len(train_dataset), 'Val:', len(val_dataset), 'Test:', len(test_dataset))"
      ]
    },
    {
      "cell_type": "markdown",
      "metadata": {
        "id": "ba2PkCs_V_MQ"
      },
      "source": [
        "**Batch check**"
      ]
    },
    {
      "cell_type": "code",
      "execution_count": 28,
      "metadata": {
        "id": "DWCmMz4BV_MQ",
        "outputId": "ee2dbe62-0ad7-48c0-ef39-7df8f7f44e7c",
        "colab": {
          "base_uri": "https://localhost:8080/",
          "height": 524
        }
      },
      "outputs": [
        {
          "output_type": "stream",
          "name": "stderr",
          "text": [
            "WARNING:matplotlib.image:Clipping input data to the valid range for imshow with RGB data ([0..1] for floats or [0..255] for integers).\n"
          ]
        },
        {
          "output_type": "display_data",
          "data": {
            "text/plain": [
              "<Figure size 640x480 with 1 Axes>"
            ],
            "image/png": "[encoded data removed]"
          },
          "metadata": {}
        },
        {
          "output_type": "stream",
          "name": "stdout",
          "text": [
            "Labels:  tensor([2, 5, 5, 5, 5, 1, 5, 4, 5, 5, 5, 5, 5, 2, 5, 1, 2, 5, 5, 3, 5, 4, 5, 5,\n",
            "        4, 5, 5, 5, 5, 5, 4, 5, 5, 5, 4, 2, 5, 5, 2, 1, 2, 0, 5, 5, 5, 5, 5, 5,\n",
            "        5, 5, 4, 4, 0, 5, 5, 4, 5, 6, 5, 5, 5, 5, 5, 5])\n"
          ]
        }
      ],
      "source": [
        "def imshow(img):\n",
        "    npimg = img.numpy()\n",
        "    plt.imshow(np.transpose(npimg, (1, 2, 0)))\n",
        "    plt.show()\n",
        "\n",
        "# Get a batch of training data\n",
        "dataiter = iter(train_loader)\n",
        "images, labels = next(dataiter)\n",
        "\n",
        "imshow(torchvision.utils.make_grid(images))\n",
        "print('Labels: ', labels)"
      ]
    },
    {
      "cell_type": "code",
      "execution_count": 29,
      "metadata": {
        "id": "pvnM2I53V_MQ",
        "outputId": "9a8e9017-a44d-4e0d-b6fa-a936af9a550c",
        "colab": {
          "base_uri": "https://localhost:8080/"
        }
      },
      "outputs": [
        {
          "output_type": "stream",
          "name": "stdout",
          "text": [
            "Using device: cuda\n"
          ]
        }
      ],
      "source": [
        "device = torch.device(\"cuda\" if torch.cuda.is_available() else \"cpu\")\n",
        "print(f'Using device: {device}')"
      ]
    },
    {
      "cell_type": "markdown",
      "metadata": {
        "id": "Lva2Lko0V_MQ"
      },
      "source": [
        "## Hyperparameter tunning"
      ]
    },
    {
      "cell_type": "markdown",
      "metadata": {
        "id": "_5Y59gG2V_MQ"
      },
      "source": [
        "Balanced subsample split"
      ]
    },
    {
      "cell_type": "code",
      "execution_count": 30,
      "metadata": {
        "id": "LOuEfBEbV_MR",
        "outputId": "65441e5e-9960-46c7-86be-ebd610c9cb7f",
        "colab": {
          "base_uri": "https://localhost:8080/",
          "height": 313
        }
      },
      "outputs": [
        {
          "output_type": "stream",
          "name": "stderr",
          "text": [
            "<ipython-input-30-3e41fd163610>:1: DeprecationWarning: DataFrameGroupBy.apply operated on the grouping columns. This behavior is deprecated, and in a future version of pandas the grouping columns will be excluded from the operation. Either pass `include_groups=False` to exclude the groupings or explicitly select the grouping columns after groupby to silence this warning.\n",
            "  selected_data = data.groupby('dx').apply(lambda x: x.sample(n=110)).reset_index(drop=True)\n"
          ]
        },
        {
          "output_type": "execute_result",
          "data": {
            "text/plain": [
              "                                  image_path    lesion_id      image_id  \\\n",
              "0  DLModel/segmented_images/ISIC_0027678.jpg  HAM_0003586  ISIC_0027678   \n",
              "1  DLModel/segmented_images/ISIC_0030175.jpg  HAM_0003051  ISIC_0030175   \n",
              "2  DLModel/segmented_images/ISIC_0031922.jpg  HAM_0000020  ISIC_0031922   \n",
              "3  DLModel/segmented_images/ISIC_0031211.jpg  HAM_0004563  ISIC_0031211   \n",
              "4  DLModel/segmented_images/ISIC_0024654.jpg  HAM_0005705  ISIC_0024654   \n",
              "\n",
              "      dx dx_type   age     sex     localization  dx_cat  \n",
              "0  akiec   histo  60.0    male             back       0  \n",
              "1  akiec   histo  85.0  female  upper extremity       0  \n",
              "2  akiec   histo  60.0  female             face       0  \n",
              "3  akiec   histo  75.0    male  lower extremity       0  \n",
              "4  akiec   histo  75.0  female  lower extremity       0  "
            ],
            "text/html": [
              "\n",
              "  <div id=\"df-4c0c3767-5022-421c-bd65-72d7447cf935\" class=\"colab-df-container\">\n",
              "    <div>\n",
              "<style scoped>\n",
              "    .dataframe tbody tr th:only-of-type {\n",
              "        vertical-align: middle;\n",
              "    }\n",
              "\n",
              "    .dataframe tbody tr th {\n",
              "        vertical-align: top;\n",
              "    }\n",
              "\n",
              "    .dataframe thead th {\n",
              "        text-align: right;\n",
              "    }\n",
              "</style>\n",
              "<table border=\"1\" class=\"dataframe\">\n",
              "  <thead>\n",
              "    <tr style=\"text-align: right;\">\n",
              "      <th></th>\n",
              "      <th>image_path</th>\n",
              "      <th>lesion_id</th>\n",
              "      <th>image_id</th>\n",
              "      <th>dx</th>\n",
              "      <th>dx_type</th>\n",
              "      <th>age</th>\n",
              "      <th>sex</th>\n",
              "      <th>localization</th>\n",
              "      <th>dx_cat</th>\n",
              "    </tr>\n",
              "  </thead>\n",
              "  <tbody>\n",
              "    <tr>\n",
              "      <th>0</th>\n",
              "      <td>DLModel/segmented_images/ISIC_0027678.jpg</td>\n",
              "      <td>HAM_0003586</td>\n",
              "      <td>ISIC_0027678</td>\n",
              "      <td>akiec</td>\n",
              "      <td>histo</td>\n",
              "      <td>60.0</td>\n",
              "      <td>male</td>\n",
              "      <td>back</td>\n",
              "      <td>0</td>\n",
              "    </tr>\n",
              "    <tr>\n",
              "      <th>1</th>\n",
              "      <td>DLModel/segmented_images/ISIC_0030175.jpg</td>\n",
              "      <td>HAM_0003051</td>\n",
              "      <td>ISIC_0030175</td>\n",
              "      <td>akiec</td>\n",
              "      <td>histo</td>\n",
              "      <td>85.0</td>\n",
              "      <td>female</td>\n",
              "      <td>upper extremity</td>\n",
              "      <td>0</td>\n",
              "    </tr>\n",
              "    <tr>\n",
              "      <th>2</th>\n",
              "      <td>DLModel/segmented_images/ISIC_0031922.jpg</td>\n",
              "      <td>HAM_0000020</td>\n",
              "      <td>ISIC_0031922</td>\n",
              "      <td>akiec</td>\n",
              "      <td>histo</td>\n",
              "      <td>60.0</td>\n",
              "      <td>female</td>\n",
              "      <td>face</td>\n",
              "      <td>0</td>\n",
              "    </tr>\n",
              "    <tr>\n",
              "      <th>3</th>\n",
              "      <td>DLModel/segmented_images/ISIC_0031211.jpg</td>\n",
              "      <td>HAM_0004563</td>\n",
              "      <td>ISIC_0031211</td>\n",
              "      <td>akiec</td>\n",
              "      <td>histo</td>\n",
              "      <td>75.0</td>\n",
              "      <td>male</td>\n",
              "      <td>lower extremity</td>\n",
              "      <td>0</td>\n",
              "    </tr>\n",
              "    <tr>\n",
              "      <th>4</th>\n",
              "      <td>DLModel/segmented_images/ISIC_0024654.jpg</td>\n",
              "      <td>HAM_0005705</td>\n",
              "      <td>ISIC_0024654</td>\n",
              "      <td>akiec</td>\n",
              "      <td>histo</td>\n",
              "      <td>75.0</td>\n",
              "      <td>female</td>\n",
              "      <td>lower extremity</td>\n",
              "      <td>0</td>\n",
              "    </tr>\n",
              "  </tbody>\n",
              "</table>\n",
              "</div>\n",
              "    <div class=\"colab-df-buttons\">\n",
              "\n",
              "  <div class=\"colab-df-container\">\n",
              "    <button class=\"colab-df-convert\" onclick=\"convertToInteractive('df-4c0c3767-5022-421c-bd65-72d7447cf935')\"\n",
              "            title=\"Convert this dataframe to an interactive table.\"\n",
              "            style=\"display:none;\">\n",
              "\n",
              "  <svg xmlns=\"http://www.w3.org/2000/svg\" height=\"24px\" viewBox=\"0 -960 960 960\">\n",
              "    <path d=\"M120-120v-720h720v720H120Zm60-500h600v-160H180v160Zm220 220h160v-160H400v160Zm0 220h160v-160H400v160ZM180-400h160v-160H180v160Zm440 0h160v-160H620v160ZM180-180h160v-160H180v160Zm440 0h160v-160H620v160Z\"/>\n",
              "  </svg>\n",
              "    </button>\n",
              "\n",
              "  <style>\n",
              "    .colab-df-container {\n",
              "      display:flex;\n",
              "      gap: 12px;\n",
              "    }\n",
              "\n",
              "    .colab-df-convert {\n",
              "      background-color: #E8F0FE;\n",
              "      border: none;\n",
              "      border-radius: 50%;\n",
              "      cursor: pointer;\n",
              "      display: none;\n",
              "      fill: #1967D2;\n",
              "      height: 32px;\n",
              "      padding: 0 0 0 0;\n",
              "      width: 32px;\n",
              "    }\n",
              "\n",
              "    .colab-df-convert:hover {\n",
              "      background-color: #E2EBFA;\n",
              "      box-shadow: 0px 1px 2px rgba(60, 64, 67, 0.3), 0px 1px 3px 1px rgba(60, 64, 67, 0.15);\n",
              "      fill: #174EA6;\n",
              "    }\n",
              "\n",
              "    .colab-df-buttons div {\n",
              "      margin-bottom: 4px;\n",
              "    }\n",
              "\n",
              "    [theme=dark] .colab-df-convert {\n",
              "      background-color: #3B4455;\n",
              "      fill: #D2E3FC;\n",
              "    }\n",
              "\n",
              "    [theme=dark] .colab-df-convert:hover {\n",
              "      background-color: #434B5C;\n",
              "      box-shadow: 0px 1px 3px 1px rgba(0, 0, 0, 0.15);\n",
              "      filter: drop-shadow(0px 1px 2px rgba(0, 0, 0, 0.3));\n",
              "      fill: #FFFFFF;\n",
              "    }\n",
              "  </style>\n",
              "\n",
              "    <script>\n",
              "      const buttonEl =\n",
              "        document.querySelector('#df-4c0c3767-5022-421c-bd65-72d7447cf935 button.colab-df-convert');\n",
              "      buttonEl.style.display =\n",
              "        google.colab.kernel.accessAllowed ? 'block' : 'none';\n",
              "\n",
              "      async function convertToInteractive(key) {\n",
              "        const element = document.querySelector('#df-4c0c3767-5022-421c-bd65-72d7447cf935');\n",
              "        const dataTable =\n",
              "          await google.colab.kernel.invokeFunction('convertToInteractive',\n",
              "                                                    [key], {});\n",
              "        if (!dataTable) return;\n",
              "\n",
              "        const docLinkHtml = 'Like what you see? Visit the ' +\n",
              "          '<a target=\"_blank\" href=https://colab.research.google.com/notebooks/data_table.ipynb>data table notebook</a>'\n",
              "          + ' to learn more about interactive tables.';\n",
              "        element.innerHTML = '';\n",
              "        dataTable['output_type'] = 'display_data';\n",
              "        await google.colab.output.renderOutput(dataTable, element);\n",
              "        const docLink = document.createElement('div');\n",
              "        docLink.innerHTML = docLinkHtml;\n",
              "        element.appendChild(docLink);\n",
              "      }\n",
              "    </script>\n",
              "  </div>\n",
              "\n",
              "\n",
              "<div id=\"df-332c8395-d490-4614-98d4-4b5084e9276c\">\n",
              "  <button class=\"colab-df-quickchart\" onclick=\"quickchart('df-332c8395-d490-4614-98d4-4b5084e9276c')\"\n",
              "            title=\"Suggest charts\"\n",
              "            style=\"display:none;\">\n",
              "\n",
              "<svg xmlns=\"http://www.w3.org/2000/svg\" height=\"24px\"viewBox=\"0 0 24 24\"\n",
              "     width=\"24px\">\n",
              "    <g>\n",
              "        <path d=\"M19 3H5c-1.1 0-2 .9-2 2v14c0 1.1.9 2 2 2h14c1.1 0 2-.9 2-2V5c0-1.1-.9-2-2-2zM9 17H7v-7h2v7zm4 0h-2V7h2v10zm4 0h-2v-4h2v4z\"/>\n",
              "    </g>\n",
              "</svg>\n",
              "  </button>\n",
              "\n",
              "<style>\n",
              "  .colab-df-quickchart {\n",
              "      --bg-color: #E8F0FE;\n",
              "      --fill-color: #1967D2;\n",
              "      --hover-bg-color: #E2EBFA;\n",
              "      --hover-fill-color: #174EA6;\n",
              "      --disabled-fill-color: #AAA;\n",
              "      --disabled-bg-color: #DDD;\n",
              "  }\n",
              "\n",
              "  [theme=dark] .colab-df-quickchart {\n",
              "      --bg-color: #3B4455;\n",
              "      --fill-color: #D2E3FC;\n",
              "      --hover-bg-color: #434B5C;\n",
              "      --hover-fill-color: #FFFFFF;\n",
              "      --disabled-bg-color: #3B4455;\n",
              "      --disabled-fill-color: #666;\n",
              "  }\n",
              "\n",
              "  .colab-df-quickchart {\n",
              "    background-color: var(--bg-color);\n",
              "    border: none;\n",
              "    border-radius: 50%;\n",
              "    cursor: pointer;\n",
              "    display: none;\n",
              "    fill: var(--fill-color);\n",
              "    height: 32px;\n",
              "    padding: 0;\n",
              "    width: 32px;\n",
              "  }\n",
              "\n",
              "  .colab-df-quickchart:hover {\n",
              "    background-color: var(--hover-bg-color);\n",
              "    box-shadow: 0 1px 2px rgba(60, 64, 67, 0.3), 0 1px 3px 1px rgba(60, 64, 67, 0.15);\n",
              "    fill: var(--button-hover-fill-color);\n",
              "  }\n",
              "\n",
              "  .colab-df-quickchart-complete:disabled,\n",
              "  .colab-df-quickchart-complete:disabled:hover {\n",
              "    background-color: var(--disabled-bg-color);\n",
              "    fill: var(--disabled-fill-color);\n",
              "    box-shadow: none;\n",
              "  }\n",
              "\n",
              "  .colab-df-spinner {\n",
              "    border: 2px solid var(--fill-color);\n",
              "    border-color: transparent;\n",
              "    border-bottom-color: var(--fill-color);\n",
              "    animation:\n",
              "      spin 1s steps(1) infinite;\n",
              "  }\n",
              "\n",
              "  @keyframes spin {\n",
              "    0% {\n",
              "      border-color: transparent;\n",
              "      border-bottom-color: var(--fill-color);\n",
              "      border-left-color: var(--fill-color);\n",
              "    }\n",
              "    20% {\n",
              "      border-color: transparent;\n",
              "      border-left-color: var(--fill-color);\n",
              "      border-top-color: var(--fill-color);\n",
              "    }\n",
              "    30% {\n",
              "      border-color: transparent;\n",
              "      border-left-color: var(--fill-color);\n",
              "      border-top-color: var(--fill-color);\n",
              "      border-right-color: var(--fill-color);\n",
              "    }\n",
              "    40% {\n",
              "      border-color: transparent;\n",
              "      border-right-color: var(--fill-color);\n",
              "      border-top-color: var(--fill-color);\n",
              "    }\n",
              "    60% {\n",
              "      border-color: transparent;\n",
              "      border-right-color: var(--fill-color);\n",
              "    }\n",
              "    80% {\n",
              "      border-color: transparent;\n",
              "      border-right-color: var(--fill-color);\n",
              "      border-bottom-color: var(--fill-color);\n",
              "    }\n",
              "    90% {\n",
              "      border-color: transparent;\n",
              "      border-bottom-color: var(--fill-color);\n",
              "    }\n",
              "  }\n",
              "</style>\n",
              "\n",
              "  <script>\n",
              "    async function quickchart(key) {\n",
              "      const quickchartButtonEl =\n",
              "        document.querySelector('#' + key + ' button');\n",
              "      quickchartButtonEl.disabled = true;  // To prevent multiple clicks.\n",
              "      quickchartButtonEl.classList.add('colab-df-spinner');\n",
              "      try {\n",
              "        const charts = await google.colab.kernel.invokeFunction(\n",
              "            'suggestCharts', [key], {});\n",
              "      } catch (error) {\n",
              "        console.error('Error during call to suggestCharts:', error);\n",
              "      }\n",
              "      quickchartButtonEl.classList.remove('colab-df-spinner');\n",
              "      quickchartButtonEl.classList.add('colab-df-quickchart-complete');\n",
              "    }\n",
              "    (() => {\n",
              "      let quickchartButtonEl =\n",
              "        document.querySelector('#df-332c8395-d490-4614-98d4-4b5084e9276c button');\n",
              "      quickchartButtonEl.style.display =\n",
              "        google.colab.kernel.accessAllowed ? 'block' : 'none';\n",
              "    })();\n",
              "  </script>\n",
              "</div>\n",
              "\n",
              "    </div>\n",
              "  </div>\n"
            ],
            "application/vnd.google.colaboratory.intrinsic+json": {
              "type": "dataframe",
              "variable_name": "selected_data",
              "summary": "{\n  \"name\": \"selected_data\",\n  \"rows\": 770,\n  \"fields\": [\n    {\n      \"column\": \"image_path\",\n      \"properties\": {\n        \"dtype\": \"string\",\n        \"num_unique_values\": 770,\n        \"samples\": [\n          \"DLModel/segmented_images/ISIC_0029877.jpg\",\n          \"DLModel/segmented_images/ISIC_0031346.jpg\",\n          \"DLModel/segmented_images/ISIC_0025873.jpg\"\n        ],\n        \"semantic_type\": \"\",\n        \"description\": \"\"\n      }\n    },\n    {\n      \"column\": \"lesion_id\",\n      \"properties\": {\n        \"dtype\": \"string\",\n        \"num_unique_values\": 668,\n        \"samples\": [\n          \"HAM_0004330\",\n          \"HAM_0006727\",\n          \"HAM_0002824\"\n        ],\n        \"semantic_type\": \"\",\n        \"description\": \"\"\n      }\n    },\n    {\n      \"column\": \"image_id\",\n      \"properties\": {\n        \"dtype\": \"string\",\n        \"num_unique_values\": 770,\n        \"samples\": [\n          \"ISIC_0029877\",\n          \"ISIC_0031346\",\n          \"ISIC_0025873\"\n        ],\n        \"semantic_type\": \"\",\n        \"description\": \"\"\n      }\n    },\n    {\n      \"column\": \"dx\",\n      \"properties\": {\n        \"dtype\": \"category\",\n        \"num_unique_values\": 7,\n        \"samples\": [\n          \"akiec\",\n          \"bcc\",\n          \"nv\"\n        ],\n        \"semantic_type\": \"\",\n        \"description\": \"\"\n      }\n    },\n    {\n      \"column\": \"dx_type\",\n      \"properties\": {\n        \"dtype\": \"category\",\n        \"num_unique_values\": 4,\n        \"samples\": [\n          \"consensus\",\n          \"follow_up\",\n          \"histo\"\n        ],\n        \"semantic_type\": \"\",\n        \"description\": \"\"\n      }\n    },\n    {\n      \"column\": \"age\",\n      \"properties\": {\n        \"dtype\": \"number\",\n        \"std\": 17.203386424881955,\n        \"min\": 0.0,\n        \"max\": 85.0,\n        \"num_unique_values\": 18,\n        \"samples\": [\n          60.0,\n          85.0,\n          40.0\n        ],\n        \"semantic_type\": \"\",\n        \"description\": \"\"\n      }\n    },\n    {\n      \"column\": \"sex\",\n      \"properties\": {\n        \"dtype\": \"category\",\n        \"num_unique_values\": 2,\n        \"samples\": [\n          \"female\",\n          \"male\"\n        ],\n        \"semantic_type\": \"\",\n        \"description\": \"\"\n      }\n    },\n    {\n      \"column\": \"localization\",\n      \"properties\": {\n        \"dtype\": \"category\",\n        \"num_unique_values\": 14,\n        \"samples\": [\n          \"abdomen\",\n          \"unknown\"\n        ],\n        \"semantic_type\": \"\",\n        \"description\": \"\"\n      }\n    },\n    {\n      \"column\": \"dx_cat\",\n      \"properties\": {\n        \"dtype\": \"number\",\n        \"std\": 2,\n        \"min\": 0,\n        \"max\": 6,\n        \"num_unique_values\": 7,\n        \"samples\": [\n          0,\n          1\n        ],\n        \"semantic_type\": \"\",\n        \"description\": \"\"\n      }\n    }\n  ]\n}"
            }
          },
          "metadata": {},
          "execution_count": 30
        }
      ],
      "source": [
        "selected_data = data.groupby('dx').apply(lambda x: x.sample(n=110)).reset_index(drop=True)\n",
        "selected_data.head()"
      ]
    },
    {
      "cell_type": "code",
      "execution_count": 31,
      "metadata": {
        "id": "q2U6k82pV_MR"
      },
      "outputs": [],
      "source": [
        "class CNNet_trial(nn.Module):\n",
        "    def __init__(self, num_filters, num_classes, num_of_layers):\n",
        "        super(CNNet_trial, self).__init__()\n",
        "\n",
        "        self.layers = nn.ModuleList()\n",
        "        in_channels = 3\n",
        "        for out_channels in num_filters:\n",
        "            self.layers.append(nn.Sequential(\n",
        "                nn.Conv2d(in_channels, out_channels, kernel_size=3, padding=1),\n",
        "                nn.BatchNorm2d(out_channels),\n",
        "                nn.ReLU(),\n",
        "                nn.MaxPool2d(kernel_size=2, stride=2)\n",
        "            ))\n",
        "            in_channels = out_channels\n",
        "\n",
        "        self.flat_features = int(num_filters[-1] * (224/2**num_of_layers) * (224/2**num_of_layers))\n",
        "        self.fc1 = nn.Linear(self.flat_features, 512)\n",
        "        self.fc2 = nn.Linear(512, 128)\n",
        "        self.fc3 = nn.Linear(128, num_classes)\n",
        "\n",
        "    def forward(self, x):\n",
        "        for layer in self.layers:\n",
        "            x = layer(x)\n",
        "        x = x.view(x.size(0), -1)\n",
        "        x = F.relu(self.fc1(x))\n",
        "        x = F.relu(self.fc2(x))\n",
        "        x = self.fc3(x)\n",
        "        return x"
      ]
    },
    {
      "cell_type": "code",
      "execution_count": 32,
      "metadata": {
        "id": "o3a2rriAV_MR",
        "outputId": "59fd061c-afec-4f75-8a63-c51c172c421c",
        "colab": {
          "base_uri": "https://localhost:8080/"
        }
      },
      "outputs": [
        {
          "output_type": "stream",
          "name": "stdout",
          "text": [
            "Data len Train: 385 Val: 385 Test: 154\n"
          ]
        },
        {
          "output_type": "stream",
          "name": "stderr",
          "text": [
            "/usr/local/lib/python3.10/dist-packages/torch/utils/data/dataloader.py:617: UserWarning: This DataLoader will create 5 worker processes in total. Our suggested max number of worker in current system is 2, which is smaller than what this DataLoader is going to create. Please be aware that excessive worker creation might get DataLoader running slow or even freeze, lower the worker number to avoid potential slowness/freeze if necessary.\n",
            "  warnings.warn(\n"
          ]
        }
      ],
      "source": [
        "train_val_trial, test_trial = train_test_split(selected_data, test_size=0.2, random_state=42)\n",
        "\n",
        "train_trial, val_trial = train_test_split(selected_data, test_size=0.5, random_state=42)\n",
        "\n",
        "train_trial = HAM10000Dataset(train_trial, transform=transform)\n",
        "val_trial = HAM10000Dataset(val_trial, transform=transform)\n",
        "test_trial = HAM10000Dataset(test_trial, transform=transform)\n",
        "\n",
        "batch_size = 64\n",
        "num_workers = 5\n",
        "\n",
        "train_loader_trial = DataLoader(train_trial, batch_size=batch_size, shuffle=True, num_workers=num_workers)\n",
        "val_loader_trial = DataLoader(val_trial, batch_size=batch_size, num_workers=num_workers)\n",
        "test_loader_trial = DataLoader(test_trial, batch_size=batch_size, num_workers=num_workers)\n",
        "\n",
        "print('Data len Train:', len(train_trial), 'Val:', len(val_trial), 'Test:', len(test_trial))"
      ]
    },
    {
      "cell_type": "markdown",
      "metadata": {
        "id": "UFGH2wgaV_MR"
      },
      "source": [
        "**Set the optuna parameters**"
      ]
    },
    {
      "cell_type": "code",
      "execution_count": 33,
      "metadata": {
        "id": "CejqBeAmV_MR"
      },
      "outputs": [],
      "source": [
        "optuna.logging.set_verbosity(optuna.logging.WARNING)\n",
        "\n",
        "def objective(trial):\n",
        "    num_of_layers = trial.suggest_int('num_of_layers', 3, 4)\n",
        "    if num_of_layers == 4:\n",
        "        num_filters = trial.suggest_categorical('num_filters_4_layers', [[16, 32, 64, 128], [32, 64, 128, 256], [64, 128, 256, 512], [16, 32, 128, 512],\n",
        "                                                                          [32, 32, 64, 256], [32, 128, 256, 256], [32, 128, 128, 256], [128, 256, 512, 512]])\n",
        "    else:\n",
        "        num_filters = trial.suggest_categorical('num_filters_3_layers', [[16, 64, 128], [32, 128, 256], [64, 128, 256], [128, 256, 512], [16, 32, 64],\n",
        "                                                                         [16, 32, 128], [32, 128, 128], [64, 256, 256], [32, 256, 512], [16, 128, 512]])\n",
        "    learning_rate = trial.suggest_categorical('learning_rate', [1e-4, 1e-3])\n",
        "    optimizer_name = trial.suggest_categorical('optimizer', ['Adam', 'RMSprop', 'SGD','AdamW'])\n",
        "    epochs = 30\n",
        "    patience =5\n",
        "    model = CNNet_trial(num_filters=num_filters, num_classes=7, num_of_layers=num_of_layers)\n",
        "    model = model.to(device)\n",
        "    input_size = (3, 224, 224)\n",
        "    criterion = nn.CrossEntropyLoss().to(device)\n",
        "\n",
        "    optimizer = {\n",
        "        'Adam': optim.Adam(model.parameters(), lr=learning_rate),\n",
        "        'RMSprop': optim.RMSprop(model.parameters(), lr=learning_rate),\n",
        "        'SGD': optim.SGD(model.parameters(), lr=learning_rate),\n",
        "        'AdamW': optim.AdamW(model.parameters(), lr=learning_rate)\n",
        "    }[optimizer_name]\n",
        "\n",
        "    model_filename = 'CNN_model_{trial}.pth'\n",
        "\n",
        "    try:\n",
        "        _, _, _, _, total_acc_val = Model_functions.train_and_validate_model(\n",
        "            model, train_loader_trial, val_loader_trial, test_loader_trial, criterion, patience, optimizer, device, epochs,model_filename)\n",
        "\n",
        "        return max(total_acc_val)\n",
        "    finally:\n",
        "        del model, optimizer\n",
        "        torch.cuda.empty_cache()\n",
        "        gc.collect()\n"
      ]
    },
    {
      "cell_type": "code",
      "execution_count": 34,
      "metadata": {
        "id": "BbxrMY_gV_MR",
        "outputId": "cf6ab94e-0fd3-48be-ec81-90e3fde729b5",
        "colab": {
          "base_uri": "https://localhost:8080/",
          "height": 1000,
          "referenced_widgets": [
            "1164edfc640e434391b4e1404721ea81",
            "3147c15e74af49cf81936bce4073f539",
            "c20393e1a7074169a95057a3420ee8fc",
            "c42958bb5d754aaa98d22646fe0cbeec",
            "317a5d5ac2664a9199dedb3d44d5ecb5",
            "4834677b861b4996ada33efe6f40de63",
            "967cb926683f4ce68673bc6462bd9cc9",
            "8ab365359a58408980830d7734a2c15f",
            "5874ed6ab0bf404ea4ed9181dedb7a89",
            "f7de09ffbfb74b15a015d513ecbb6f26",
            "d8c96084ec114751b66e1ff83e49a649"
          ]
        }
      },
      "outputs": [
        {
          "output_type": "display_data",
          "data": {
            "text/plain": [
              "  0%|          | 0/10 [00:00<?, ?it/s]"
            ],
            "application/vnd.jupyter.widget-view+json": {
              "version_major": 2,
              "version_minor": 0,
              "model_id": "1164edfc640e434391b4e1404721ea81"
            }
          },
          "metadata": {}
        },
        {
          "output_type": "stream",
          "name": "stderr",
          "text": [
            "/usr/local/lib/python3.10/dist-packages/optuna/distributions.py:524: UserWarning: Choices for a categorical distribution should be a tuple of None, bool, int, float and str for persistent storage but contains [16, 32, 64, 128] which is of type list.\n",
            "  warnings.warn(message)\n",
            "/usr/local/lib/python3.10/dist-packages/optuna/distributions.py:524: UserWarning: Choices for a categorical distribution should be a tuple of None, bool, int, float and str for persistent storage but contains [32, 64, 128, 256] which is of type list.\n",
            "  warnings.warn(message)\n",
            "/usr/local/lib/python3.10/dist-packages/optuna/distributions.py:524: UserWarning: Choices for a categorical distribution should be a tuple of None, bool, int, float and str for persistent storage but contains [64, 128, 256, 512] which is of type list.\n",
            "  warnings.warn(message)\n",
            "/usr/local/lib/python3.10/dist-packages/optuna/distributions.py:524: UserWarning: Choices for a categorical distribution should be a tuple of None, bool, int, float and str for persistent storage but contains [16, 32, 128, 512] which is of type list.\n",
            "  warnings.warn(message)\n",
            "/usr/local/lib/python3.10/dist-packages/optuna/distributions.py:524: UserWarning: Choices for a categorical distribution should be a tuple of None, bool, int, float and str for persistent storage but contains [32, 32, 64, 256] which is of type list.\n",
            "  warnings.warn(message)\n",
            "/usr/local/lib/python3.10/dist-packages/optuna/distributions.py:524: UserWarning: Choices for a categorical distribution should be a tuple of None, bool, int, float and str for persistent storage but contains [32, 128, 256, 256] which is of type list.\n",
            "  warnings.warn(message)\n",
            "/usr/local/lib/python3.10/dist-packages/optuna/distributions.py:524: UserWarning: Choices for a categorical distribution should be a tuple of None, bool, int, float and str for persistent storage but contains [32, 128, 128, 256] which is of type list.\n",
            "  warnings.warn(message)\n",
            "/usr/local/lib/python3.10/dist-packages/optuna/distributions.py:524: UserWarning: Choices for a categorical distribution should be a tuple of None, bool, int, float and str for persistent storage but contains [128, 256, 512, 512] which is of type list.\n",
            "  warnings.warn(message)\n",
            "\n",
            "  0%|          | 0/30 [00:00<?, ?it/s]\u001b[A"
          ]
        },
        {
          "output_type": "stream",
          "name": "stdout",
          "text": [
            "Validation Loss Decreased(inf--->1.951593) \n",
            "Saving The Model\n",
            "=======================================================================\n"
          ]
        },
        {
          "output_type": "stream",
          "name": "stderr",
          "text": [
            "\n",
            "  3%|▎         | 1/30 [00:09<04:36,  9.52s/it]\u001b[A\n",
            "  7%|▋         | 2/30 [00:15<03:24,  7.29s/it]\u001b[A\n",
            " 10%|█         | 3/30 [00:22<03:11,  7.09s/it]\u001b[A\n",
            " 13%|█▎        | 4/30 [00:29<03:07,  7.21s/it]\u001b[A"
          ]
        },
        {
          "output_type": "stream",
          "name": "stdout",
          "text": [
            "Validation Loss Decreased(1.951593--->1.945073) \n",
            "Saving The Model\n",
            "=======================================================================\n"
          ]
        },
        {
          "output_type": "stream",
          "name": "stderr",
          "text": [
            "\n",
            " 17%|█▋        | 5/30 [00:35<02:49,  6.80s/it]\u001b[A"
          ]
        },
        {
          "output_type": "stream",
          "name": "stdout",
          "text": [
            "Validation Loss Decreased(1.945073--->1.943830) \n",
            "Saving The Model\n",
            "=======================================================================\n"
          ]
        },
        {
          "output_type": "stream",
          "name": "stderr",
          "text": [
            "\n",
            " 20%|██        | 6/30 [00:43<02:53,  7.24s/it]\u001b[A"
          ]
        },
        {
          "output_type": "stream",
          "name": "stdout",
          "text": [
            "Validation Loss Decreased(1.943830--->1.934764) \n",
            "Saving The Model\n",
            "=======================================================================\n"
          ]
        },
        {
          "output_type": "stream",
          "name": "stderr",
          "text": [
            "\n",
            " 23%|██▎       | 7/30 [00:50<02:41,  7.03s/it]\u001b[A"
          ]
        },
        {
          "output_type": "stream",
          "name": "stdout",
          "text": [
            "Validation Loss Decreased(1.934764--->1.920980) \n",
            "Saving The Model\n",
            "=======================================================================\n"
          ]
        },
        {
          "output_type": "stream",
          "name": "stderr",
          "text": [
            "\n",
            " 27%|██▋       | 8/30 [00:56<02:32,  6.92s/it]\u001b[A\n",
            " 30%|███       | 9/30 [01:04<02:29,  7.13s/it]\u001b[A\n",
            " 33%|███▎      | 10/30 [01:10<02:13,  6.69s/it]\u001b[A\n",
            " 37%|███▋      | 11/30 [01:17<02:12,  6.97s/it]\u001b[A\n",
            " 40%|████      | 12/30 [01:24<02:04,  6.94s/it]\u001b[A\n",
            "100%|██████████| 30/30 [01:30<00:00,  3.01s/it]\n",
            "/content/AMLProject/functions/Model_functions.py:114: FutureWarning: You are using `torch.load` with `weights_only=False` (the current default value), which uses the default pickle module implicitly. It is possible to construct malicious pickle data which will execute arbitrary code during unpickling (See https://github.com/pytorch/pytorch/blob/main/SECURITY.md#untrusted-models for more details). In a future release, the default value for `weights_only` will be flipped to `True`. This limits the functions that could be executed during unpickling. Arbitrary objects will no longer be allowed to be loaded via this mode unless they are explicitly allowlisted by the user via `torch.serialization.add_safe_globals`. We recommend you start setting `weights_only=True` for any use case where you don't have full control of the loaded file. Please open an issue on GitHub for any issues related to this experimental feature.\n",
            "  best_model_state = torch.load(model_filename)\n",
            "/usr/local/lib/python3.10/dist-packages/optuna/distributions.py:524: UserWarning: Choices for a categorical distribution should be a tuple of None, bool, int, float and str for persistent storage but contains [16, 64, 128] which is of type list.\n",
            "  warnings.warn(message)\n",
            "/usr/local/lib/python3.10/dist-packages/optuna/distributions.py:524: UserWarning: Choices for a categorical distribution should be a tuple of None, bool, int, float and str for persistent storage but contains [32, 128, 256] which is of type list.\n",
            "  warnings.warn(message)\n",
            "/usr/local/lib/python3.10/dist-packages/optuna/distributions.py:524: UserWarning: Choices for a categorical distribution should be a tuple of None, bool, int, float and str for persistent storage but contains [64, 128, 256] which is of type list.\n",
            "  warnings.warn(message)\n",
            "/usr/local/lib/python3.10/dist-packages/optuna/distributions.py:524: UserWarning: Choices for a categorical distribution should be a tuple of None, bool, int, float and str for persistent storage but contains [128, 256, 512] which is of type list.\n",
            "  warnings.warn(message)\n",
            "/usr/local/lib/python3.10/dist-packages/optuna/distributions.py:524: UserWarning: Choices for a categorical distribution should be a tuple of None, bool, int, float and str for persistent storage but contains [16, 32, 64] which is of type list.\n",
            "  warnings.warn(message)\n",
            "/usr/local/lib/python3.10/dist-packages/optuna/distributions.py:524: UserWarning: Choices for a categorical distribution should be a tuple of None, bool, int, float and str for persistent storage but contains [16, 32, 128] which is of type list.\n",
            "  warnings.warn(message)\n",
            "/usr/local/lib/python3.10/dist-packages/optuna/distributions.py:524: UserWarning: Choices for a categorical distribution should be a tuple of None, bool, int, float and str for persistent storage but contains [32, 128, 128] which is of type list.\n",
            "  warnings.warn(message)\n",
            "/usr/local/lib/python3.10/dist-packages/optuna/distributions.py:524: UserWarning: Choices for a categorical distribution should be a tuple of None, bool, int, float and str for persistent storage but contains [64, 256, 256] which is of type list.\n",
            "  warnings.warn(message)\n",
            "/usr/local/lib/python3.10/dist-packages/optuna/distributions.py:524: UserWarning: Choices for a categorical distribution should be a tuple of None, bool, int, float and str for persistent storage but contains [32, 256, 512] which is of type list.\n",
            "  warnings.warn(message)\n",
            "/usr/local/lib/python3.10/dist-packages/optuna/distributions.py:524: UserWarning: Choices for a categorical distribution should be a tuple of None, bool, int, float and str for persistent storage but contains [16, 128, 512] which is of type list.\n",
            "  warnings.warn(message)\n",
            "\n",
            "  0%|          | 0/30 [00:00<?, ?it/s]\u001b[A"
          ]
        },
        {
          "output_type": "stream",
          "name": "stdout",
          "text": [
            "Validation Loss Decreased(inf--->16.401271) \n",
            "Saving The Model\n",
            "=======================================================================\n"
          ]
        },
        {
          "output_type": "stream",
          "name": "stderr",
          "text": [
            "\n",
            "  3%|▎         | 1/30 [00:13<06:28, 13.40s/it]\u001b[A"
          ]
        },
        {
          "output_type": "stream",
          "name": "stdout",
          "text": [
            "Validation Loss Decreased(16.401271--->10.249272) \n",
            "Saving The Model\n",
            "=======================================================================\n"
          ]
        },
        {
          "output_type": "stream",
          "name": "stderr",
          "text": [
            "\n",
            "  7%|▋         | 2/30 [00:28<06:40, 14.32s/it]\u001b[A\n",
            " 10%|█         | 3/30 [00:36<05:14, 11.67s/it]\u001b[A"
          ]
        },
        {
          "output_type": "stream",
          "name": "stdout",
          "text": [
            "Validation Loss Decreased(10.249272--->6.128357) \n",
            "Saving The Model\n",
            "=======================================================================\n"
          ]
        },
        {
          "output_type": "stream",
          "name": "stderr",
          "text": [
            "\n",
            " 13%|█▎        | 4/30 [00:52<05:47, 13.37s/it]\u001b[A"
          ]
        },
        {
          "output_type": "stream",
          "name": "stdout",
          "text": [
            "Validation Loss Decreased(6.128357--->5.094282) \n",
            "Saving The Model\n",
            "=======================================================================\n"
          ]
        },
        {
          "output_type": "stream",
          "name": "stderr",
          "text": [
            "\n",
            " 17%|█▋        | 5/30 [01:35<09:55, 23.80s/it]\u001b[A"
          ]
        },
        {
          "output_type": "stream",
          "name": "stdout",
          "text": [
            "Validation Loss Decreased(5.094282--->3.769602) \n",
            "Saving The Model\n",
            "=======================================================================\n"
          ]
        },
        {
          "output_type": "stream",
          "name": "stderr",
          "text": [
            "\n",
            " 20%|██        | 6/30 [01:56<09:11, 22.99s/it]\u001b[A"
          ]
        },
        {
          "output_type": "stream",
          "name": "stdout",
          "text": [
            "Validation Loss Decreased(3.769602--->3.231898) \n",
            "Saving The Model\n",
            "=======================================================================\n"
          ]
        },
        {
          "output_type": "stream",
          "name": "stderr",
          "text": [
            "\n",
            " 23%|██▎       | 7/30 [02:13<08:02, 20.98s/it]\u001b[A"
          ]
        },
        {
          "output_type": "stream",
          "name": "stdout",
          "text": [
            "Validation Loss Decreased(3.231898--->2.219229) \n",
            "Saving The Model\n",
            "=======================================================================\n"
          ]
        },
        {
          "output_type": "stream",
          "name": "stderr",
          "text": [
            "\n",
            " 27%|██▋       | 8/30 [02:42<08:41, 23.69s/it]\u001b[A\n",
            " 30%|███       | 9/30 [02:51<06:37, 18.94s/it]\u001b[A\n",
            " 33%|███▎      | 10/30 [02:59<05:10, 15.53s/it]\u001b[A\n",
            " 37%|███▋      | 11/30 [03:07<04:09, 13.15s/it]\u001b[A\n",
            " 40%|████      | 12/30 [03:15<03:30, 11.71s/it]\u001b[A"
          ]
        },
        {
          "output_type": "stream",
          "name": "stdout",
          "text": [
            "Validation Loss Decreased(2.219229--->2.026492) \n",
            "Saving The Model\n",
            "=======================================================================\n"
          ]
        },
        {
          "output_type": "stream",
          "name": "stderr",
          "text": [
            "\n",
            " 43%|████▎     | 13/30 [03:31<03:41, 13.00s/it]\u001b[A\n",
            " 47%|████▋     | 14/30 [03:37<02:56, 11.03s/it]\u001b[A\n",
            " 50%|█████     | 15/30 [03:46<02:32, 10.18s/it]\u001b[A"
          ]
        },
        {
          "output_type": "stream",
          "name": "stdout",
          "text": [
            "Validation Loss Decreased(2.026492--->1.987562) \n",
            "Saving The Model\n",
            "=======================================================================\n"
          ]
        },
        {
          "output_type": "stream",
          "name": "stderr",
          "text": [
            "\n",
            " 53%|█████▎    | 16/30 [04:05<02:59, 12.83s/it]\u001b[A\n",
            " 57%|█████▋    | 17/30 [04:11<02:22, 10.96s/it]\u001b[A\n",
            " 60%|██████    | 18/30 [04:20<02:05, 10.42s/it]\u001b[A"
          ]
        },
        {
          "output_type": "stream",
          "name": "stdout",
          "text": [
            "Validation Loss Decreased(1.987562--->1.816895) \n",
            "Saving The Model\n",
            "=======================================================================\n"
          ]
        },
        {
          "output_type": "stream",
          "name": "stderr",
          "text": [
            "\n",
            " 63%|██████▎   | 19/30 [04:36<02:12, 12.01s/it]\u001b[A\n",
            " 67%|██████▋   | 20/30 [04:43<01:43, 10.36s/it]\u001b[A\n",
            " 70%|███████   | 21/30 [04:52<01:29,  9.96s/it]\u001b[A\n",
            " 73%|███████▎  | 22/30 [04:58<01:11,  8.97s/it]\u001b[A\n",
            " 77%|███████▋  | 23/30 [05:07<01:01,  8.80s/it]\u001b[A\n",
            "100%|██████████| 30/30 [05:15<00:00, 10.50s/it]\n",
            "\n",
            "  0%|          | 0/30 [00:00<?, ?it/s]\u001b[A"
          ]
        },
        {
          "output_type": "stream",
          "name": "stdout",
          "text": [
            "Validation Loss Decreased(inf--->1.913735) \n",
            "Saving The Model\n",
            "=======================================================================\n"
          ]
        },
        {
          "output_type": "stream",
          "name": "stderr",
          "text": [
            "\n",
            "  3%|▎         | 1/30 [00:09<04:31,  9.37s/it]\u001b[A"
          ]
        },
        {
          "output_type": "stream",
          "name": "stdout",
          "text": [
            "Validation Loss Decreased(1.913735--->1.856568) \n",
            "Saving The Model\n",
            "=======================================================================\n"
          ]
        },
        {
          "output_type": "stream",
          "name": "stderr",
          "text": [
            "\n",
            "  7%|▋         | 2/30 [00:17<04:03,  8.70s/it]\u001b[A"
          ]
        },
        {
          "output_type": "stream",
          "name": "stdout",
          "text": [
            "Validation Loss Decreased(1.856568--->1.762729) \n",
            "Saving The Model\n",
            "=======================================================================\n"
          ]
        },
        {
          "output_type": "stream",
          "name": "stderr",
          "text": [
            "\n",
            " 10%|█         | 3/30 [00:27<04:04,  9.05s/it]\u001b[A\n",
            " 13%|█▎        | 4/30 [00:33<03:32,  8.17s/it]\u001b[A\n",
            " 17%|█▋        | 5/30 [00:42<03:30,  8.43s/it]\u001b[A"
          ]
        },
        {
          "output_type": "stream",
          "name": "stdout",
          "text": [
            "Validation Loss Decreased(1.762729--->1.637173) \n",
            "Saving The Model\n",
            "=======================================================================\n"
          ]
        },
        {
          "output_type": "stream",
          "name": "stderr",
          "text": [
            "\n",
            " 20%|██        | 6/30 [00:50<03:19,  8.31s/it]\u001b[A\n",
            " 23%|██▎       | 7/30 [00:59<03:12,  8.37s/it]\u001b[A\n",
            " 27%|██▋       | 8/30 [01:07<03:02,  8.30s/it]\u001b[A\n",
            " 30%|███       | 9/30 [01:15<02:53,  8.25s/it]\u001b[A"
          ]
        },
        {
          "output_type": "stream",
          "name": "stdout",
          "text": [
            "Validation Loss Decreased(1.637173--->1.540410) \n",
            "Saving The Model\n",
            "=======================================================================\n"
          ]
        },
        {
          "output_type": "stream",
          "name": "stderr",
          "text": [
            "\n",
            " 33%|███▎      | 10/30 [01:24<02:50,  8.54s/it]\u001b[A\n",
            " 37%|███▋      | 11/30 [01:31<02:32,  8.01s/it]\u001b[A\n",
            " 40%|████      | 12/30 [01:40<02:30,  8.38s/it]\u001b[A"
          ]
        },
        {
          "output_type": "stream",
          "name": "stdout",
          "text": [
            "Validation Loss Decreased(1.540410--->1.509884) \n",
            "Saving The Model\n",
            "=======================================================================\n"
          ]
        },
        {
          "output_type": "stream",
          "name": "stderr",
          "text": [
            "\n",
            " 43%|████▎     | 13/30 [01:48<02:17,  8.08s/it]\u001b[A"
          ]
        },
        {
          "output_type": "stream",
          "name": "stdout",
          "text": [
            "Validation Loss Decreased(1.509884--->1.477240) \n",
            "Saving The Model\n",
            "=======================================================================\n"
          ]
        },
        {
          "output_type": "stream",
          "name": "stderr",
          "text": [
            "\n",
            " 47%|████▋     | 14/30 [01:58<02:17,  8.58s/it]\u001b[A\n",
            " 50%|█████     | 15/30 [02:04<02:00,  8.02s/it]\u001b[A"
          ]
        },
        {
          "output_type": "stream",
          "name": "stdout",
          "text": [
            "Validation Loss Decreased(1.477240--->1.386130) \n",
            "Saving The Model\n",
            "=======================================================================\n"
          ]
        },
        {
          "output_type": "stream",
          "name": "stderr",
          "text": [
            "\n",
            " 53%|█████▎    | 16/30 [02:14<01:59,  8.51s/it]\u001b[A\n",
            " 57%|█████▋    | 17/30 [02:23<01:52,  8.69s/it]\u001b[A\n",
            " 60%|██████    | 18/30 [02:34<01:53,  9.43s/it]\u001b[A\n",
            " 63%|██████▎   | 19/30 [02:41<01:34,  8.63s/it]\u001b[A"
          ]
        },
        {
          "output_type": "stream",
          "name": "stdout",
          "text": [
            "Validation Loss Decreased(1.386130--->1.382602) \n",
            "Saving The Model\n",
            "=======================================================================\n"
          ]
        },
        {
          "output_type": "stream",
          "name": "stderr",
          "text": [
            "\n",
            " 67%|██████▋   | 20/30 [02:51<01:31,  9.13s/it]\u001b[A\n",
            " 70%|███████   | 21/30 [02:58<01:15,  8.39s/it]\u001b[A\n",
            " 73%|███████▎  | 22/30 [03:06<01:07,  8.41s/it]\u001b[A\n",
            " 77%|███████▋  | 23/30 [03:14<00:56,  8.08s/it]\u001b[A\n",
            " 80%|████████  | 24/30 [03:22<00:49,  8.24s/it]\u001b[A"
          ]
        },
        {
          "output_type": "stream",
          "name": "stdout",
          "text": [
            "Validation Loss Decreased(1.382602--->1.301703) \n",
            "Saving The Model\n",
            "=======================================================================\n"
          ]
        },
        {
          "output_type": "stream",
          "name": "stderr",
          "text": [
            "\n",
            " 83%|████████▎ | 25/30 [03:31<00:41,  8.30s/it]\u001b[A"
          ]
        },
        {
          "output_type": "stream",
          "name": "stdout",
          "text": [
            "Validation Loss Decreased(1.301703--->1.289884) \n",
            "Saving The Model\n",
            "=======================================================================\n"
          ]
        },
        {
          "output_type": "stream",
          "name": "stderr",
          "text": [
            "\n",
            " 87%|████████▋ | 26/30 [03:40<00:34,  8.61s/it]\u001b[A\n",
            " 90%|█████████ | 27/30 [03:47<00:24,  8.22s/it]\u001b[A\n",
            " 93%|█████████▎| 28/30 [03:56<00:16,  8.32s/it]\u001b[A\n",
            " 97%|█████████▋| 29/30 [04:04<00:08,  8.21s/it]\u001b[A\n",
            "100%|██████████| 30/30 [04:12<00:00,  8.42s/it]\n",
            "\n",
            "  0%|          | 0/30 [00:00<?, ?it/s]\u001b[A"
          ]
        },
        {
          "output_type": "stream",
          "name": "stdout",
          "text": [
            "Validation Loss Decreased(inf--->9.804049) \n",
            "Saving The Model\n",
            "=======================================================================\n"
          ]
        },
        {
          "output_type": "stream",
          "name": "stderr",
          "text": [
            "\n",
            "  3%|▎         | 1/30 [00:08<03:56,  8.15s/it]\u001b[A\n",
            "  7%|▋         | 2/30 [00:15<03:38,  7.79s/it]\u001b[A"
          ]
        },
        {
          "output_type": "stream",
          "name": "stdout",
          "text": [
            "Validation Loss Decreased(9.804049--->4.982980) \n",
            "Saving The Model\n",
            "=======================================================================\n"
          ]
        },
        {
          "output_type": "stream",
          "name": "stderr",
          "text": [
            "\n",
            " 10%|█         | 3/30 [00:23<03:35,  8.00s/it]\u001b[A"
          ]
        },
        {
          "output_type": "stream",
          "name": "stdout",
          "text": [
            "Validation Loss Decreased(4.982980--->2.971480) \n",
            "Saving The Model\n",
            "=======================================================================\n"
          ]
        },
        {
          "output_type": "stream",
          "name": "stderr",
          "text": [
            "\n",
            " 13%|█▎        | 4/30 [00:30<03:12,  7.40s/it]\u001b[A"
          ]
        },
        {
          "output_type": "stream",
          "name": "stdout",
          "text": [
            "Validation Loss Decreased(2.971480--->2.107840) \n",
            "Saving The Model\n",
            "=======================================================================\n"
          ]
        },
        {
          "output_type": "stream",
          "name": "stderr",
          "text": [
            "\n",
            " 17%|█▋        | 5/30 [00:39<03:20,  8.02s/it]\u001b[A"
          ]
        },
        {
          "output_type": "stream",
          "name": "stdout",
          "text": [
            "Validation Loss Decreased(2.107840--->2.028558) \n",
            "Saving The Model\n",
            "=======================================================================\n"
          ]
        },
        {
          "output_type": "stream",
          "name": "stderr",
          "text": [
            "\n",
            " 20%|██        | 6/30 [00:45<02:59,  7.48s/it]\u001b[A\n",
            " 23%|██▎       | 7/30 [00:54<02:56,  7.67s/it]\u001b[A"
          ]
        },
        {
          "output_type": "stream",
          "name": "stdout",
          "text": [
            "Validation Loss Decreased(2.028558--->1.970544) \n",
            "Saving The Model\n",
            "=======================================================================\n"
          ]
        },
        {
          "output_type": "stream",
          "name": "stderr",
          "text": [
            "\n",
            " 27%|██▋       | 8/30 [01:01<02:46,  7.57s/it]\u001b[A\n",
            " 30%|███       | 9/30 [01:08<02:37,  7.51s/it]\u001b[A"
          ]
        },
        {
          "output_type": "stream",
          "name": "stdout",
          "text": [
            "Validation Loss Decreased(1.970544--->1.958596) \n",
            "Saving The Model\n",
            "=======================================================================\n"
          ]
        },
        {
          "output_type": "stream",
          "name": "stderr",
          "text": [
            "\n",
            " 33%|███▎      | 10/30 [01:16<02:34,  7.71s/it]\u001b[A\n",
            " 37%|███▋      | 11/30 [01:23<02:17,  7.24s/it]\u001b[A\n",
            " 40%|████      | 12/30 [01:31<02:18,  7.70s/it]\u001b[A"
          ]
        },
        {
          "output_type": "stream",
          "name": "stdout",
          "text": [
            "Validation Loss Decreased(1.958596--->1.830365) \n",
            "Saving The Model\n",
            "=======================================================================\n"
          ]
        },
        {
          "output_type": "stream",
          "name": "stderr",
          "text": [
            "\n",
            " 43%|████▎     | 13/30 [01:38<02:05,  7.36s/it]\u001b[A"
          ]
        },
        {
          "output_type": "stream",
          "name": "stdout",
          "text": [
            "Validation Loss Decreased(1.830365--->1.777883) \n",
            "Saving The Model\n",
            "=======================================================================\n"
          ]
        },
        {
          "output_type": "stream",
          "name": "stderr",
          "text": [
            "\n",
            " 47%|████▋     | 14/30 [01:46<02:02,  7.63s/it]\u001b[A\n",
            " 50%|█████     | 15/30 [01:53<01:52,  7.49s/it]\u001b[A\n",
            " 53%|█████▎    | 16/30 [02:00<01:42,  7.32s/it]\u001b[A"
          ]
        },
        {
          "output_type": "stream",
          "name": "stdout",
          "text": [
            "Validation Loss Decreased(1.777883--->1.742646) \n",
            "Saving The Model\n",
            "=======================================================================\n"
          ]
        },
        {
          "output_type": "stream",
          "name": "stderr",
          "text": [
            "\n",
            " 57%|█████▋    | 17/30 [02:09<01:40,  7.70s/it]\u001b[A\n",
            " 60%|██████    | 18/30 [02:15<01:26,  7.24s/it]\u001b[A"
          ]
        },
        {
          "output_type": "stream",
          "name": "stdout",
          "text": [
            "Validation Loss Decreased(1.742646--->1.653917) \n",
            "Saving The Model\n",
            "=======================================================================\n"
          ]
        },
        {
          "output_type": "stream",
          "name": "stderr",
          "text": [
            "\n",
            " 63%|██████▎   | 19/30 [02:24<01:25,  7.76s/it]\u001b[A\n",
            " 67%|██████▋   | 20/30 [02:30<01:13,  7.35s/it]\u001b[A\n",
            " 70%|███████   | 21/30 [02:38<01:07,  7.52s/it]\u001b[A"
          ]
        },
        {
          "output_type": "stream",
          "name": "stdout",
          "text": [
            "Validation Loss Decreased(1.653917--->1.619341) \n",
            "Saving The Model\n",
            "=======================================================================\n"
          ]
        },
        {
          "output_type": "stream",
          "name": "stderr",
          "text": [
            "\n",
            " 73%|███████▎  | 22/30 [02:46<01:01,  7.68s/it]\u001b[A\n",
            " 77%|███████▋  | 23/30 [02:53<00:51,  7.40s/it]\u001b[A\n",
            " 80%|████████  | 24/30 [03:01<00:45,  7.65s/it]\u001b[A\n",
            " 83%|████████▎ | 25/30 [03:08<00:36,  7.24s/it]\u001b[A\n",
            " 87%|████████▋ | 26/30 [03:17<00:30,  7.73s/it]\u001b[A\n",
            "100%|██████████| 30/30 [03:23<00:00,  6.78s/it]\n",
            "\n",
            "  0%|          | 0/30 [00:00<?, ?it/s]\u001b[A"
          ]
        },
        {
          "output_type": "stream",
          "name": "stdout",
          "text": [
            "Validation Loss Decreased(inf--->4.323150) \n",
            "Saving The Model\n",
            "=======================================================================\n"
          ]
        },
        {
          "output_type": "stream",
          "name": "stderr",
          "text": [
            "\n",
            "  3%|▎         | 1/30 [00:09<04:44,  9.81s/it]\u001b[A\n",
            "  7%|▋         | 2/30 [00:16<03:35,  7.71s/it]\u001b[A"
          ]
        },
        {
          "output_type": "stream",
          "name": "stdout",
          "text": [
            "Validation Loss Decreased(4.323150--->2.648835) \n",
            "Saving The Model\n",
            "=======================================================================\n"
          ]
        },
        {
          "output_type": "stream",
          "name": "stderr",
          "text": [
            "\n",
            " 10%|█         | 3/30 [00:31<04:58, 11.07s/it]\u001b[A\n",
            " 13%|█▎        | 4/30 [00:37<03:57,  9.12s/it]\u001b[A\n",
            " 17%|█▋        | 5/30 [00:45<03:37,  8.69s/it]\u001b[A\n",
            " 20%|██        | 6/30 [00:53<03:21,  8.40s/it]\u001b[A"
          ]
        },
        {
          "output_type": "stream",
          "name": "stdout",
          "text": [
            "Validation Loss Decreased(2.648835--->1.676756) \n",
            "Saving The Model\n",
            "=======================================================================\n"
          ]
        },
        {
          "output_type": "stream",
          "name": "stderr",
          "text": [
            "\n",
            " 23%|██▎       | 7/30 [01:44<08:39, 22.58s/it]\u001b[A\n",
            " 27%|██▋       | 8/30 [01:50<06:21, 17.36s/it]\u001b[A\n",
            " 30%|███       | 9/30 [01:59<05:03, 14.47s/it]\u001b[A\n",
            " 33%|███▎      | 10/30 [02:06<04:04, 12.20s/it]\u001b[A\n",
            " 37%|███▋      | 11/30 [02:13<03:22, 10.66s/it]\u001b[A\n",
            "100%|██████████| 30/30 [02:21<00:00,  4.71s/it]\n",
            "\n",
            "  0%|          | 0/30 [00:00<?, ?it/s]\u001b[A"
          ]
        },
        {
          "output_type": "stream",
          "name": "stdout",
          "text": [
            "Validation Loss Decreased(inf--->29.628839) \n",
            "Saving The Model\n",
            "=======================================================================\n"
          ]
        },
        {
          "output_type": "stream",
          "name": "stderr",
          "text": [
            "\n",
            "  3%|▎         | 1/30 [00:10<04:53, 10.12s/it]\u001b[A\n",
            "  7%|▋         | 2/30 [00:18<04:14,  9.08s/it]\u001b[A"
          ]
        },
        {
          "output_type": "stream",
          "name": "stdout",
          "text": [
            "Validation Loss Decreased(29.628839--->9.034491) \n",
            "Saving The Model\n",
            "=======================================================================\n"
          ]
        },
        {
          "output_type": "stream",
          "name": "stderr",
          "text": [
            "\n",
            " 10%|█         | 3/30 [00:35<05:44, 12.76s/it]\u001b[A\n",
            " 13%|█▎        | 4/30 [00:44<04:55, 11.35s/it]\u001b[A"
          ]
        },
        {
          "output_type": "stream",
          "name": "stdout",
          "text": [
            "Validation Loss Decreased(9.034491--->6.559970) \n",
            "Saving The Model\n",
            "=======================================================================\n"
          ]
        },
        {
          "output_type": "stream",
          "name": "stderr",
          "text": [
            "\n",
            " 17%|█▋        | 5/30 [00:54<04:31, 10.86s/it]\u001b[A"
          ]
        },
        {
          "output_type": "stream",
          "name": "stdout",
          "text": [
            "Validation Loss Decreased(6.559970--->3.388741) \n",
            "Saving The Model\n",
            "=======================================================================\n"
          ]
        },
        {
          "output_type": "stream",
          "name": "stderr",
          "text": [
            "\n",
            " 20%|██        | 6/30 [01:06<04:24, 11.03s/it]\u001b[A"
          ]
        },
        {
          "output_type": "stream",
          "name": "stdout",
          "text": [
            "Validation Loss Decreased(3.388741--->2.313366) \n",
            "Saving The Model\n",
            "=======================================================================\n"
          ]
        },
        {
          "output_type": "stream",
          "name": "stderr",
          "text": [
            "\n",
            " 23%|██▎       | 7/30 [01:20<04:41, 12.25s/it]\u001b[A"
          ]
        },
        {
          "output_type": "stream",
          "name": "stdout",
          "text": [
            "Validation Loss Decreased(2.313366--->1.951983) \n",
            "Saving The Model\n",
            "=======================================================================\n"
          ]
        },
        {
          "output_type": "stream",
          "name": "stderr",
          "text": [
            "\n",
            " 27%|██▋       | 8/30 [01:30<04:08, 11.30s/it]\u001b[A\n",
            " 30%|███       | 9/30 [01:39<03:46, 10.79s/it]\u001b[A\n",
            " 33%|███▎      | 10/30 [01:47<03:15,  9.77s/it]\u001b[A\n",
            " 37%|███▋      | 11/30 [01:56<03:03,  9.68s/it]\u001b[A"
          ]
        },
        {
          "output_type": "stream",
          "name": "stdout",
          "text": [
            "Validation Loss Decreased(1.951983--->1.700766) \n",
            "Saving The Model\n",
            "=======================================================================\n"
          ]
        },
        {
          "output_type": "stream",
          "name": "stderr",
          "text": [
            "\n",
            " 40%|████      | 12/30 [02:05<02:50,  9.48s/it]\u001b[A\n",
            " 43%|████▎     | 13/30 [02:14<02:39,  9.36s/it]\u001b[A"
          ]
        },
        {
          "output_type": "stream",
          "name": "stdout",
          "text": [
            "Validation Loss Decreased(1.700766--->1.684237) \n",
            "Saving The Model\n",
            "=======================================================================\n"
          ]
        },
        {
          "output_type": "stream",
          "name": "stderr",
          "text": [
            "\n",
            " 47%|████▋     | 14/30 [02:29<02:56, 11.05s/it]\u001b[A\n",
            " 50%|█████     | 15/30 [02:37<02:29,  9.98s/it]\u001b[A"
          ]
        },
        {
          "output_type": "stream",
          "name": "stdout",
          "text": [
            "Validation Loss Decreased(1.684237--->1.625953) \n",
            "Saving The Model\n",
            "=======================================================================\n"
          ]
        },
        {
          "output_type": "stream",
          "name": "stderr",
          "text": [
            "\n",
            " 53%|█████▎    | 16/30 [02:53<02:46, 11.93s/it]\u001b[A\n",
            " 57%|█████▋    | 17/30 [03:03<02:24, 11.15s/it]\u001b[A\n",
            " 60%|██████    | 18/30 [03:11<02:03, 10.25s/it]\u001b[A"
          ]
        },
        {
          "output_type": "stream",
          "name": "stdout",
          "text": [
            "Validation Loss Decreased(1.625953--->1.624044) \n",
            "Saving The Model\n",
            "=======================================================================\n"
          ]
        },
        {
          "output_type": "stream",
          "name": "stderr",
          "text": [
            "\n",
            " 63%|██████▎   | 19/30 [03:27<02:13, 12.12s/it]\u001b[A\n",
            " 67%|██████▋   | 20/30 [03:37<01:52, 11.30s/it]\u001b[A\n",
            " 70%|███████   | 21/30 [03:45<01:34, 10.49s/it]\u001b[A"
          ]
        },
        {
          "output_type": "stream",
          "name": "stdout",
          "text": [
            "Validation Loss Decreased(1.624044--->1.567858) \n",
            "Saving The Model\n",
            "=======================================================================\n"
          ]
        },
        {
          "output_type": "stream",
          "name": "stderr",
          "text": [
            "\n",
            " 73%|███████▎  | 22/30 [03:57<01:26, 10.81s/it]\u001b[A\n",
            " 77%|███████▋  | 23/30 [04:04<01:08,  9.77s/it]\u001b[A\n",
            " 80%|████████  | 24/30 [04:14<00:59,  9.85s/it]\u001b[A\n",
            " 83%|████████▎ | 25/30 [04:22<00:46,  9.25s/it]\u001b[A\n",
            " 87%|████████▋ | 26/30 [04:32<00:37,  9.37s/it]\u001b[A\n",
            "100%|██████████| 30/30 [04:39<00:00,  9.33s/it]\n",
            "\n",
            "  0%|          | 0/30 [00:00<?, ?it/s]\u001b[A"
          ]
        },
        {
          "output_type": "stream",
          "name": "stdout",
          "text": [
            "Validation Loss Decreased(inf--->17.416898) \n",
            "Saving The Model\n",
            "=======================================================================\n"
          ]
        },
        {
          "output_type": "stream",
          "name": "stderr",
          "text": [
            "\n",
            "  3%|▎         | 1/30 [00:10<05:11, 10.76s/it]\u001b[A"
          ]
        },
        {
          "output_type": "stream",
          "name": "stdout",
          "text": [
            "Validation Loss Decreased(17.416898--->7.044837) \n",
            "Saving The Model\n",
            "=======================================================================\n"
          ]
        },
        {
          "output_type": "stream",
          "name": "stderr",
          "text": [
            "\n",
            "  7%|▋         | 2/30 [00:19<04:26,  9.52s/it]\u001b[A\n",
            " 10%|█         | 3/30 [00:27<04:02,  8.98s/it]\u001b[A"
          ]
        },
        {
          "output_type": "stream",
          "name": "stdout",
          "text": [
            "Validation Loss Decreased(7.044837--->5.024122) \n",
            "Saving The Model\n",
            "=======================================================================\n"
          ]
        },
        {
          "output_type": "stream",
          "name": "stderr",
          "text": [
            "\n",
            " 13%|█▎        | 4/30 [00:40<04:33, 10.51s/it]\u001b[A"
          ]
        },
        {
          "output_type": "stream",
          "name": "stdout",
          "text": [
            "Validation Loss Decreased(5.024122--->2.512675) \n",
            "Saving The Model\n",
            "=======================================================================\n"
          ]
        },
        {
          "output_type": "stream",
          "name": "stderr",
          "text": [
            "\n",
            " 17%|█▋        | 5/30 [01:26<09:39, 23.16s/it]\u001b[A\n",
            " 20%|██        | 6/30 [01:32<06:59, 17.49s/it]\u001b[A\n",
            " 23%|██▎       | 7/30 [01:41<05:33, 14.52s/it]\u001b[A"
          ]
        },
        {
          "output_type": "stream",
          "name": "stdout",
          "text": [
            "Validation Loss Decreased(2.512675--->2.115569) \n",
            "Saving The Model\n",
            "=======================================================================\n"
          ]
        },
        {
          "output_type": "stream",
          "name": "stderr",
          "text": [
            "\n",
            " 27%|██▋       | 8/30 [01:52<04:54, 13.40s/it]\u001b[A\n",
            " 30%|███       | 9/30 [02:00<04:11, 11.99s/it]\u001b[A\n",
            " 33%|███▎      | 10/30 [02:07<03:27, 10.36s/it]\u001b[A\n",
            " 37%|███▋      | 11/30 [02:16<03:06,  9.79s/it]\u001b[A\n",
            " 40%|████      | 12/30 [02:23<02:45,  9.17s/it]\u001b[A\n",
            "100%|██████████| 30/30 [02:31<00:00,  5.04s/it]\n",
            "\n",
            "  0%|          | 0/30 [00:00<?, ?it/s]\u001b[A"
          ]
        },
        {
          "output_type": "stream",
          "name": "stdout",
          "text": [
            "Validation Loss Decreased(inf--->1.887904) \n",
            "Saving The Model\n",
            "=======================================================================\n"
          ]
        },
        {
          "output_type": "stream",
          "name": "stderr",
          "text": [
            "\n",
            "  3%|▎         | 1/30 [00:07<03:33,  7.37s/it]\u001b[A\n",
            "  7%|▋         | 2/30 [00:12<02:52,  6.15s/it]\u001b[A\n",
            " 10%|█         | 3/30 [00:21<03:16,  7.27s/it]\u001b[A"
          ]
        },
        {
          "output_type": "stream",
          "name": "stdout",
          "text": [
            "Validation Loss Decreased(1.887904--->1.816089) \n",
            "Saving The Model\n",
            "=======================================================================\n"
          ]
        },
        {
          "output_type": "stream",
          "name": "stderr",
          "text": [
            "\n",
            " 13%|█▎        | 4/30 [00:27<02:54,  6.73s/it]\u001b[A\n",
            " 17%|█▋        | 5/30 [00:32<02:39,  6.38s/it]\u001b[A\n",
            " 20%|██        | 6/30 [00:40<02:40,  6.68s/it]\u001b[A"
          ]
        },
        {
          "output_type": "stream",
          "name": "stdout",
          "text": [
            "Validation Loss Decreased(1.816089--->1.645946) \n",
            "Saving The Model\n",
            "=======================================================================\n"
          ]
        },
        {
          "output_type": "stream",
          "name": "stderr",
          "text": [
            "\n",
            " 23%|██▎       | 7/30 [00:46<02:27,  6.40s/it]\u001b[A\n",
            " 27%|██▋       | 8/30 [00:53<02:25,  6.63s/it]\u001b[A\n",
            " 30%|███       | 9/30 [00:59<02:17,  6.54s/it]\u001b[A\n",
            " 33%|███▎      | 10/30 [01:04<02:02,  6.14s/it]\u001b[A\n",
            " 37%|███▋      | 11/30 [01:12<02:06,  6.68s/it]\u001b[A\n",
            "100%|██████████| 30/30 [01:18<00:00,  2.61s/it]\n",
            "\n",
            "  0%|          | 0/30 [00:00<?, ?it/s]\u001b[A"
          ]
        },
        {
          "output_type": "stream",
          "name": "stdout",
          "text": [
            "Validation Loss Decreased(inf--->2.474166) \n",
            "Saving The Model\n",
            "=======================================================================\n"
          ]
        },
        {
          "output_type": "stream",
          "name": "stderr",
          "text": [
            "\n",
            "  3%|▎         | 1/30 [00:06<03:16,  6.79s/it]\u001b[A\n",
            "  7%|▋         | 2/30 [00:13<03:15,  6.99s/it]\u001b[A\n",
            " 10%|█         | 3/30 [00:19<02:49,  6.27s/it]\u001b[A"
          ]
        },
        {
          "output_type": "stream",
          "name": "stdout",
          "text": [
            "Validation Loss Decreased(2.474166--->2.022981) \n",
            "Saving The Model\n",
            "=======================================================================\n"
          ]
        },
        {
          "output_type": "stream",
          "name": "stderr",
          "text": [
            "\n",
            " 13%|█▎        | 4/30 [00:27<03:01,  6.97s/it]\u001b[A\n",
            " 17%|█▋        | 5/30 [00:33<02:42,  6.49s/it]\u001b[A\n",
            " 20%|██        | 6/30 [00:38<02:27,  6.15s/it]\u001b[A\n",
            " 23%|██▎       | 7/30 [00:46<02:36,  6.83s/it]\u001b[A"
          ]
        },
        {
          "output_type": "stream",
          "name": "stdout",
          "text": [
            "Validation Loss Decreased(2.022981--->1.967469) \n",
            "Saving The Model\n",
            "=======================================================================\n"
          ]
        },
        {
          "output_type": "stream",
          "name": "stderr",
          "text": [
            "\n",
            " 27%|██▋       | 8/30 [00:52<02:24,  6.55s/it]\u001b[A\n",
            " 30%|███       | 9/30 [00:59<02:20,  6.69s/it]\u001b[A\n",
            " 33%|███▎      | 10/30 [01:06<02:14,  6.75s/it]\u001b[A\n",
            " 37%|███▋      | 11/30 [01:11<02:00,  6.32s/it]\u001b[A\n",
            " 40%|████      | 12/30 [01:19<02:02,  6.83s/it]\u001b[A\n",
            "100%|██████████| 30/30 [01:25<00:00,  2.85s/it]\n",
            "\n",
            "  0%|          | 0/30 [00:00<?, ?it/s]\u001b[A"
          ]
        },
        {
          "output_type": "stream",
          "name": "stdout",
          "text": [
            "Validation Loss Decreased(inf--->113.118393) \n",
            "Saving The Model\n",
            "=======================================================================\n"
          ]
        },
        {
          "output_type": "stream",
          "name": "stderr",
          "text": [
            "\n",
            "  3%|▎         | 1/30 [00:22<10:56, 22.65s/it]\u001b[A"
          ]
        },
        {
          "output_type": "stream",
          "name": "stdout",
          "text": [
            "Validation Loss Decreased(113.118393--->11.529745) \n",
            "Saving The Model\n",
            "=======================================================================\n"
          ]
        },
        {
          "output_type": "stream",
          "name": "stderr",
          "text": [
            "\n",
            "  7%|▋         | 2/30 [00:45<10:33, 22.62s/it]\u001b[A"
          ]
        },
        {
          "output_type": "stream",
          "name": "stdout",
          "text": [
            "Validation Loss Decreased(11.529745--->3.020863) \n",
            "Saving The Model\n",
            "=======================================================================\n"
          ]
        },
        {
          "output_type": "stream",
          "name": "stderr",
          "text": [
            "\n",
            " 10%|█         | 3/30 [01:06<09:59, 22.20s/it]\u001b[A\n",
            " 13%|█▎        | 4/30 [01:16<07:27, 17.21s/it]\u001b[A"
          ]
        },
        {
          "output_type": "stream",
          "name": "stdout",
          "text": [
            "Validation Loss Decreased(3.020863--->2.388830) \n",
            "Saving The Model\n",
            "=======================================================================\n"
          ]
        },
        {
          "output_type": "stream",
          "name": "stderr",
          "text": [
            "\n",
            " 17%|█▋        | 5/30 [01:28<06:25, 15.42s/it]\u001b[A\n",
            " 20%|██        | 6/30 [01:36<05:07, 12.80s/it]\u001b[A"
          ]
        },
        {
          "output_type": "stream",
          "name": "stdout",
          "text": [
            "Validation Loss Decreased(2.388830--->2.256783) \n",
            "Saving The Model\n",
            "=======================================================================\n"
          ]
        },
        {
          "output_type": "stream",
          "name": "stderr",
          "text": [
            "\n",
            " 23%|██▎       | 7/30 [02:01<06:23, 16.66s/it]\u001b[A\n",
            " 27%|██▋       | 8/30 [02:08<05:03, 13.80s/it]\u001b[A\n",
            " 30%|███       | 9/30 [02:18<04:21, 12.46s/it]\u001b[A"
          ]
        },
        {
          "output_type": "stream",
          "name": "stdout",
          "text": [
            "Validation Loss Decreased(2.256783--->1.960918) \n",
            "Saving The Model\n",
            "=======================================================================\n"
          ]
        },
        {
          "output_type": "stream",
          "name": "stderr",
          "text": [
            "\n",
            " 33%|███▎      | 10/30 [02:34<04:34, 13.72s/it]\u001b[A\n",
            " 37%|███▋      | 11/30 [02:42<03:46, 11.92s/it]\u001b[A"
          ]
        },
        {
          "output_type": "stream",
          "name": "stdout",
          "text": [
            "Validation Loss Decreased(1.960918--->1.896030) \n",
            "Saving The Model\n",
            "=======================================================================\n"
          ]
        },
        {
          "output_type": "stream",
          "name": "stderr",
          "text": [
            "\n",
            " 40%|████      | 12/30 [03:04<04:31, 15.08s/it]\u001b[A"
          ]
        },
        {
          "output_type": "stream",
          "name": "stdout",
          "text": [
            "Validation Loss Decreased(1.896030--->1.863254) \n",
            "Saving The Model\n",
            "=======================================================================\n"
          ]
        },
        {
          "output_type": "stream",
          "name": "stderr",
          "text": [
            "\n",
            " 43%|████▎     | 13/30 [03:21<04:23, 15.48s/it]\u001b[A\n",
            " 47%|████▋     | 14/30 [03:29<03:30, 13.16s/it]\u001b[A\n",
            " 50%|█████     | 15/30 [03:38<03:01, 12.11s/it]\u001b[A"
          ]
        },
        {
          "output_type": "stream",
          "name": "stdout",
          "text": [
            "Validation Loss Decreased(1.863254--->1.862845) \n",
            "Saving The Model\n",
            "=======================================================================\n"
          ]
        },
        {
          "output_type": "stream",
          "name": "stderr",
          "text": [
            "\n",
            " 53%|█████▎    | 16/30 [04:00<03:28, 14.92s/it]\u001b[A\n",
            " 57%|█████▋    | 17/30 [04:09<02:53, 13.31s/it]\u001b[A\n",
            " 60%|██████    | 18/30 [04:17<02:20, 11.75s/it]\u001b[A\n",
            " 63%|██████▎   | 19/30 [04:27<02:02, 11.12s/it]\u001b[A\n",
            " 67%|██████▋   | 20/30 [04:35<01:41, 10.16s/it]\u001b[A\n",
            "100%|██████████| 30/30 [04:44<00:00,  9.50s/it]\n"
          ]
        },
        {
          "output_type": "stream",
          "name": "stdout",
          "text": [
            "Best trial:\n",
            " Validation Accuracy: 42.857142857142854\n",
            "  Params: \n",
            "    num_of_layers: 4\n",
            "    num_filters_4_layers: [64, 128, 256, 512]\n",
            "    learning_rate: 0.0001\n",
            "    optimizer: Adam\n"
          ]
        }
      ],
      "source": [
        "study = optuna.create_study(direction='maximize')\n",
        "study.optimize(objective, n_trials=10,show_progress_bar=True)\n",
        "\n",
        "print(\"Best trial:\")\n",
        "trial = study.best_trial\n",
        "print(f\" Validation Accuracy: {trial.value}\")\n",
        "print(\"  Params: \")\n",
        "for key, value in trial.params.items():\n",
        "    print(f\"    {key}: {value}\")"
      ]
    },
    {
      "cell_type": "markdown",
      "metadata": {
        "id": "7IwN1I5nV_MS"
      },
      "source": [
        "| Hyperparameter          | Value                           |\n",
        "|-------------------------|---------------------------------|\n",
        "| num_of_layers           | 4                               |\n",
        "| num_filters_4_layers    | [64, 128, 256, 512]             |\n",
        "| learning_rate           | 0.001                           |\n",
        "| optimizer               | Adam                            |\n",
        "| epochs                  | 29                              |\n",
        "| **Best Trial Value**    | 77.82              |\n"
      ]
    },
    {
      "cell_type": "markdown",
      "metadata": {
        "id": "Qi0XIOQYV_MS"
      },
      "source": [
        "# Make the custom model"
      ]
    },
    {
      "cell_type": "markdown",
      "metadata": {
        "id": "xf1VVswKV_MS"
      },
      "source": [
        "**Initiate the model with the best hyperparameters**"
      ]
    },
    {
      "cell_type": "code",
      "execution_count": 35,
      "metadata": {
        "id": "OiJYAV34V_MS"
      },
      "outputs": [],
      "source": [
        "num_classes = 7"
      ]
    },
    {
      "cell_type": "code",
      "execution_count": 36,
      "metadata": {
        "id": "Wfra8Ec7V_MS"
      },
      "outputs": [],
      "source": [
        "class CNNet(nn.Module):\n",
        "    def __init__(self):\n",
        "        super().__init__()\n",
        "        self.layer1 = nn.Sequential(\n",
        "        nn.Conv2d(3, 64, kernel_size=(3,3), padding=1),\n",
        "        nn.BatchNorm2d(64),\n",
        "        nn.ReLU(),\n",
        "        nn.MaxPool2d(kernel_size=2,stride=2))\n",
        "        self.layer2 = nn.Sequential(\n",
        "        nn.Conv2d(64, 128, kernel_size=(3,3), padding=1),\n",
        "        nn.BatchNorm2d(128),\n",
        "        nn.ReLU(),\n",
        "        nn.MaxPool2d(kernel_size=2,stride=2))\n",
        "        self.layer3 = nn.Sequential(\n",
        "        nn.Conv2d(128, 256, kernel_size=(3,3), padding=1),\n",
        "        nn.BatchNorm2d(256),\n",
        "        nn.ReLU(),\n",
        "        nn.MaxPool2d(kernel_size=2,stride=2))\n",
        "        self.layer4 = nn.Sequential(\n",
        "        nn.Conv2d(256, 512, kernel_size=(3,3), padding=1),\n",
        "        nn.BatchNorm2d(512),\n",
        "        nn.ReLU(),\n",
        "        nn.MaxPool2d(kernel_size=2,stride=2))\n",
        "\n",
        "        self.fc1 = nn.Linear(512 * 14 * 14, 512)\n",
        "        self.fc2 = nn.Linear(512, 128)\n",
        "        self.fc3 = nn.Linear(128, num_classes)\n",
        "\n",
        "    def forward(self, x):\n",
        "        x = x.view(-1, 3, img_h, img_w)\n",
        "        out1 = self.layer1(x)\n",
        "        out2 = self.layer2(out1)\n",
        "        out3 = self.layer3(out2)\n",
        "        out4 = self.layer4(out3)\n",
        "\n",
        "        out = out4.view(out4.size(0), -1) #makes them flat\n",
        "        out = F.relu(self.fc1(out))\n",
        "        out = F.relu(self.fc2(out))\n",
        "        out = self.fc3(out)\n",
        "        return out\n",
        "\n",
        "CNN_model = CNNet()"
      ]
    },
    {
      "cell_type": "code",
      "execution_count": 37,
      "metadata": {
        "id": "8_i9URHtV_MT",
        "outputId": "b06602c3-6fc2-45d2-dc16-19b79f260c57",
        "colab": {
          "base_uri": "https://localhost:8080/"
        }
      },
      "outputs": [
        {
          "output_type": "stream",
          "name": "stdout",
          "text": [
            "----------------------------------------------------------------\n",
            "        Layer (type)               Output Shape         Param #\n",
            "================================================================\n",
            "            Conv2d-1         [-1, 64, 224, 224]           1,792\n",
            "       BatchNorm2d-2         [-1, 64, 224, 224]             128\n",
            "              ReLU-3         [-1, 64, 224, 224]               0\n",
            "         MaxPool2d-4         [-1, 64, 112, 112]               0\n",
            "            Conv2d-5        [-1, 128, 112, 112]          73,856\n",
            "       BatchNorm2d-6        [-1, 128, 112, 112]             256\n",
            "              ReLU-7        [-1, 128, 112, 112]               0\n",
            "         MaxPool2d-8          [-1, 128, 56, 56]               0\n",
            "            Conv2d-9          [-1, 256, 56, 56]         295,168\n",
            "      BatchNorm2d-10          [-1, 256, 56, 56]             512\n",
            "             ReLU-11          [-1, 256, 56, 56]               0\n",
            "        MaxPool2d-12          [-1, 256, 28, 28]               0\n",
            "           Conv2d-13          [-1, 512, 28, 28]       1,180,160\n",
            "      BatchNorm2d-14          [-1, 512, 28, 28]           1,024\n",
            "             ReLU-15          [-1, 512, 28, 28]               0\n",
            "        MaxPool2d-16          [-1, 512, 14, 14]               0\n",
            "           Linear-17                  [-1, 512]      51,380,736\n",
            "           Linear-18                  [-1, 128]          65,664\n",
            "           Linear-19                    [-1, 7]             903\n",
            "================================================================\n",
            "Total params: 53,000,199\n",
            "Trainable params: 53,000,199\n",
            "Non-trainable params: 0\n",
            "----------------------------------------------------------------\n",
            "Input size (MB): 0.57\n",
            "Forward/backward pass size (MB): 149.30\n",
            "Params size (MB): 202.18\n",
            "Estimated Total Size (MB): 352.06\n",
            "----------------------------------------------------------------\n",
            "None\n"
          ]
        }
      ],
      "source": [
        "CNN_model = CNN_model.to(device)\n",
        "input_size = (3, 224, 224)\n",
        "print(summary(CNN_model, input_size, device=device.type))"
      ]
    },
    {
      "cell_type": "code",
      "execution_count": 38,
      "metadata": {
        "id": "T-KjyvR_V_MT"
      },
      "outputs": [],
      "source": [
        "criterion = nn.CrossEntropyLoss().to(device)\n",
        "optimizer = torch.optim.Adam(CNN_model.parameters(), lr=1e-3)"
      ]
    },
    {
      "cell_type": "markdown",
      "metadata": {
        "id": "s2A2dymLV_MT"
      },
      "source": [
        "**Fit the model using Validation set for the best model selection**"
      ]
    },
    {
      "cell_type": "code",
      "execution_count": 39,
      "metadata": {
        "id": "OSszcGVMV_MT",
        "outputId": "bafde840-20a7-473f-8895-af008141f815",
        "colab": {
          "base_uri": "https://localhost:8080/"
        }
      },
      "outputs": [
        {
          "output_type": "stream",
          "name": "stderr",
          "text": [
            "\r  0%|          | 0/30 [00:00<?, ?it/s]"
          ]
        },
        {
          "output_type": "stream",
          "name": "stdout",
          "text": [
            "Epoch 1\n",
            "Training Loss: 2.466110368569692 \n",
            "Training Accuracy: 60.38442336495257%\n",
            "Validation Loss: 1.034716284464276 \n",
            "Validation Accuracy: 66.67498751872192%\n",
            "=======================================================================\n",
            "Validation Loss Decreased(inf--->1.034716) \n",
            "Saving The Model\n",
            "=======================================================================\n"
          ]
        },
        {
          "output_type": "stream",
          "name": "stderr",
          "text": [
            "\r  3%|▎         | 1/30 [00:59<28:43, 59.42s/it]"
          ]
        },
        {
          "output_type": "stream",
          "name": "stdout",
          "text": [
            "Epoch 2\n",
            "Training Loss: 1.0343175766960022 \n",
            "Training Accuracy: 66.2256615077384%\n",
            "Validation Loss: 1.0027465252649217 \n",
            "Validation Accuracy: 65.70144782825761%\n",
            "=======================================================================\n",
            "Validation Loss Decreased(1.034716--->1.002747) \n",
            "Saving The Model\n",
            "=======================================================================\n"
          ]
        },
        {
          "output_type": "stream",
          "name": "stderr",
          "text": [
            " 10%|█         | 3/30 [02:59<26:57, 59.91s/it]"
          ]
        },
        {
          "output_type": "stream",
          "name": "stdout",
          "text": [
            "Epoch 3\n",
            "Training Loss: 0.9684666224888393 \n",
            "Training Accuracy: 68.14777833250125%\n",
            "Validation Loss: 1.005993728599851 \n",
            "Validation Accuracy: 65.80129805292061%\n",
            "=======================================================================\n",
            "Epoch 4\n",
            "Training Loss: 0.9540729844380939 \n",
            "Training Accuracy: 67.44882675986021%\n",
            "Validation Loss: 0.948874571020641 \n",
            "Validation Accuracy: 68.02296555167248%\n",
            "=======================================================================\n",
            "Validation Loss Decreased(1.002747--->0.948875) \n",
            "Saving The Model\n",
            "=======================================================================\n"
          ]
        },
        {
          "output_type": "stream",
          "name": "stderr",
          "text": [
            " 17%|█▋        | 5/30 [04:59<25:00, 60.03s/it]"
          ]
        },
        {
          "output_type": "stream",
          "name": "stdout",
          "text": [
            "Epoch 5\n",
            "Training Loss: 0.9369066887431674 \n",
            "Training Accuracy: 68.2226660009985%\n",
            "Validation Loss: 1.1734781615317813 \n",
            "Validation Accuracy: 62.755866200698954%\n",
            "=======================================================================\n",
            "Epoch 6\n",
            "Training Loss: 0.899361442951929 \n",
            "Training Accuracy: 68.89665501747379%\n",
            "Validation Loss: 0.8793079578687274 \n",
            "Validation Accuracy: 68.52221667498752%\n",
            "=======================================================================\n",
            "Validation Loss Decreased(0.948875--->0.879308) \n",
            "Saving The Model\n",
            "=======================================================================\n"
          ]
        },
        {
          "output_type": "stream",
          "name": "stderr",
          "text": [
            " 23%|██▎       | 7/30 [07:03<23:24, 61.07s/it]"
          ]
        },
        {
          "output_type": "stream",
          "name": "stdout",
          "text": [
            "Epoch 7\n",
            "Training Loss: 0.8785447355300661 \n",
            "Training Accuracy: 69.1462805791313%\n",
            "Validation Loss: 0.909190020863972 \n",
            "Validation Accuracy: 69.17124313529706%\n",
            "=======================================================================\n"
          ]
        },
        {
          "output_type": "stream",
          "name": "stderr",
          "text": [
            "\r 27%|██▋       | 8/30 [08:02<22:09, 60.44s/it]"
          ]
        },
        {
          "output_type": "stream",
          "name": "stdout",
          "text": [
            "Epoch 8\n",
            "Training Loss: 0.87048125645471 \n",
            "Training Accuracy: 69.42086869695457%\n",
            "Validation Loss: 0.9772117610961671 \n",
            "Validation Accuracy: 68.84672990514228%\n",
            "=======================================================================\n"
          ]
        },
        {
          "output_type": "stream",
          "name": "stderr",
          "text": [
            "\r 30%|███       | 9/30 [09:01<20:59, 59.96s/it]"
          ]
        },
        {
          "output_type": "stream",
          "name": "stdout",
          "text": [
            "Epoch 9\n",
            "Training Loss: 0.8597637396010142 \n",
            "Training Accuracy: 69.17124313529706%\n",
            "Validation Loss: 0.9536723418841286 \n",
            "Validation Accuracy: 69.32101847229156%\n",
            "=======================================================================\n",
            "Epoch 10\n",
            "Training Loss: 0.8431350465804811 \n",
            "Training Accuracy: 70.41937094358462%\n",
            "Validation Loss: 0.8409402304225497 \n",
            "Validation Accuracy: 69.27109335996006%\n",
            "=======================================================================\n",
            "Validation Loss Decreased(0.879308--->0.840940) \n",
            "Saving The Model\n",
            "=======================================================================\n"
          ]
        },
        {
          "output_type": "stream",
          "name": "stderr",
          "text": [
            "\r 33%|███▎      | 10/30 [10:01<19:57, 59.86s/it]"
          ]
        },
        {
          "output_type": "stream",
          "name": "stdout",
          "text": [
            "Epoch 11\n",
            "Training Loss: 0.8214517585814946 \n",
            "Training Accuracy: 70.46929605591613%\n",
            "Validation Loss: 0.8220340108114575 \n",
            "Validation Accuracy: 70.34448327508737%\n",
            "=======================================================================\n",
            "Validation Loss Decreased(0.840940--->0.822034) \n",
            "Saving The Model\n",
            "=======================================================================\n"
          ]
        },
        {
          "output_type": "stream",
          "name": "stderr",
          "text": [
            "\r 37%|███▋      | 11/30 [11:01<19:00, 60.01s/it]"
          ]
        },
        {
          "output_type": "stream",
          "name": "stdout",
          "text": [
            "Epoch 12\n",
            "Training Loss: 0.8194010692929464 \n",
            "Training Accuracy: 70.9935097353969%\n",
            "Validation Loss: 0.8198634745582701 \n",
            "Validation Accuracy: 70.14478282576135%\n",
            "=======================================================================\n",
            "Validation Loss Decreased(0.822034--->0.819863) \n",
            "Saving The Model\n",
            "=======================================================================\n"
          ]
        },
        {
          "output_type": "stream",
          "name": "stderr",
          "text": [
            " 43%|████▎     | 13/30 [13:01<16:58, 59.91s/it]"
          ]
        },
        {
          "output_type": "stream",
          "name": "stdout",
          "text": [
            "Epoch 13\n",
            "Training Loss: 0.8360238037412129 \n",
            "Training Accuracy: 70.66899650524213%\n",
            "Validation Loss: 0.8428672419653999 \n",
            "Validation Accuracy: 70.9435846230654%\n",
            "=======================================================================\n",
            "Epoch 14\n",
            "Training Loss: 0.8065583005784049 \n",
            "Training Accuracy: 71.56764852720919%\n",
            "Validation Loss: 0.8098689601534889 \n",
            "Validation Accuracy: 71.44283574638042%\n",
            "=======================================================================\n",
            "Validation Loss Decreased(0.819863--->0.809869) \n",
            "Saving The Model\n",
            "=======================================================================\n"
          ]
        },
        {
          "output_type": "stream",
          "name": "stderr",
          "text": [
            " 50%|█████     | 15/30 [15:05<15:16, 61.07s/it]"
          ]
        },
        {
          "output_type": "stream",
          "name": "stdout",
          "text": [
            "Epoch 15\n",
            "Training Loss: 0.7918985613754818 \n",
            "Training Accuracy: 71.8671992011982%\n",
            "Validation Loss: 0.8257421567326501 \n",
            "Validation Accuracy: 69.94508237643535%\n",
            "=======================================================================\n"
          ]
        },
        {
          "output_type": "stream",
          "name": "stderr",
          "text": [
            "\r 53%|█████▎    | 16/30 [16:06<14:14, 61.02s/it]"
          ]
        },
        {
          "output_type": "stream",
          "name": "stdout",
          "text": [
            "Epoch 16\n",
            "Training Loss: 0.7955214617744325 \n",
            "Training Accuracy: 71.79231153270095%\n",
            "Validation Loss: 0.8966270183760022 \n",
            "Validation Accuracy: 67.17423864203694%\n",
            "=======================================================================\n"
          ]
        },
        {
          "output_type": "stream",
          "name": "stderr",
          "text": [
            "\r 57%|█████▋    | 17/30 [17:05<13:07, 60.59s/it]"
          ]
        },
        {
          "output_type": "stream",
          "name": "stdout",
          "text": [
            "Epoch 17\n",
            "Training Loss: 0.7865081051039318 \n",
            "Training Accuracy: 71.84223664503246%\n",
            "Validation Loss: 0.8261699638669453 \n",
            "Validation Accuracy: 69.9700449326011%\n",
            "=======================================================================\n"
          ]
        },
        {
          "output_type": "stream",
          "name": "stderr",
          "text": [
            "\r 60%|██████    | 18/30 [18:06<12:07, 60.61s/it]"
          ]
        },
        {
          "output_type": "stream",
          "name": "stdout",
          "text": [
            "Epoch 18\n",
            "Training Loss: 0.7862186677872188 \n",
            "Training Accuracy: 71.24313529705442%\n",
            "Validation Loss: 0.8216489619678922 \n",
            "Validation Accuracy: 69.92011982026959%\n",
            "=======================================================================\n"
          ]
        },
        {
          "output_type": "stream",
          "name": "stderr",
          "text": [
            "100%|██████████| 30/30 [19:08<00:00, 38.29s/it]"
          ]
        },
        {
          "output_type": "stream",
          "name": "stdout",
          "text": [
            "Epoch 19\n",
            "Training Loss: 0.7806509052004132 \n",
            "Training Accuracy: 72.19171243135297%\n",
            "Validation Loss: 0.8626619435492016 \n",
            "Validation Accuracy: 70.14478282576135%\n",
            "=======================================================================\n"
          ]
        },
        {
          "output_type": "stream",
          "name": "stderr",
          "text": [
            "\n",
            "/content/AMLProject/functions/Model_functions.py:114: FutureWarning: You are using `torch.load` with `weights_only=False` (the current default value), which uses the default pickle module implicitly. It is possible to construct malicious pickle data which will execute arbitrary code during unpickling (See https://github.com/pytorch/pytorch/blob/main/SECURITY.md#untrusted-models for more details). In a future release, the default value for `weights_only` will be flipped to `True`. This limits the functions that could be executed during unpickling. Arbitrary objects will no longer be allowed to be loaded via this mode unless they are explicitly allowlisted by the user via `torch.serialization.add_safe_globals`. We recommend you start setting `weights_only=True` for any use case where you don't have full control of the loaded file. Please open an issue on GitHub for any issues related to this experimental feature.\n",
            "  best_model_state = torch.load(model_filename)\n"
          ]
        }
      ],
      "source": [
        "epochs = 30\n",
        "patience = 5\n",
        "model_filename = 'CNN_model.pth'\n",
        "model = CNN_model\n",
        "start_time = time.time()\n",
        "CNN_model_fitted, total_loss_train, total_loss_val, total_acc_train, total_acc_val = Model_functions.train_and_validate_model(\n",
        "                        model, train_loader, val_loader,test_loader, criterion,patience, optimizer, device, epochs, model_filename, verbose=True)\n",
        "end_time = time.time()"
      ]
    },
    {
      "cell_type": "code",
      "execution_count": 40,
      "metadata": {
        "id": "uDQvnBLVV_MU",
        "outputId": "c1525548-7f7f-45bc-b9bd-54bbf2730844",
        "colab": {
          "base_uri": "https://localhost:8080/"
        }
      },
      "outputs": [
        {
          "output_type": "stream",
          "name": "stdout",
          "text": [
            "Total training and validation time for our Model: 19.15 minutes\n"
          ]
        }
      ],
      "source": [
        "total_time = end_time - start_time\n",
        "print(f\"Total training and validation time for our Model: {total_time/60:.2f} minutes\")"
      ]
    },
    {
      "cell_type": "code",
      "execution_count": 41,
      "metadata": {
        "id": "FC6L_zbSV_MU",
        "outputId": "83ff8ca3-1cac-4ccc-a845-9d06f072cf8e",
        "colab": {
          "base_uri": "https://localhost:8080/",
          "height": 770
        }
      },
      "outputs": [
        {
          "output_type": "display_data",
          "data": {
            "text/plain": [
              "<Figure size 2000x1600 with 2 Axes>"
            ],
            "image/png": "[encoded data removed]"
          },
          "metadata": {}
        }
      ],
      "source": [
        "fig = plt.figure(num=2, figsize=(20, 16))\n",
        "fig1 = fig.add_subplot(2, 1, 1)\n",
        "fig2 = fig.add_subplot(2, 1, 2)\n",
        "\n",
        "fig1.plot(total_loss_train, label='Training Loss')\n",
        "fig1.plot(total_loss_val, label='Validation Loss')\n",
        "fig1.set_title('Loss for our model', fontsize=14)\n",
        "fig1.legend()\n",
        "fig2.plot(total_acc_train, label='Training Accuracy')\n",
        "fig2.plot(total_acc_val, label='Validation Accuracy')\n",
        "fig2.set_title('Accuracy for our model', fontsize=14)\n",
        "fig2.legend()\n",
        "plt.show()"
      ]
    },
    {
      "cell_type": "code",
      "execution_count": 42,
      "metadata": {
        "id": "l-oYYO8gV_MU",
        "outputId": "aef1f14c-9283-4411-8308-2fc42f6f85e3",
        "colab": {
          "base_uri": "https://localhost:8080/"
        }
      },
      "outputs": [
        {
          "output_type": "stream",
          "name": "stderr",
          "text": [
            "<ipython-input-42-ea840f8adf42>:2: FutureWarning: You are using `torch.load` with `weights_only=False` (the current default value), which uses the default pickle module implicitly. It is possible to construct malicious pickle data which will execute arbitrary code during unpickling (See https://github.com/pytorch/pytorch/blob/main/SECURITY.md#untrusted-models for more details). In a future release, the default value for `weights_only` will be flipped to `True`. This limits the functions that could be executed during unpickling. Arbitrary objects will no longer be allowed to be loaded via this mode unless they are explicitly allowlisted by the user via `torch.serialization.add_safe_globals`. We recommend you start setting `weights_only=True` for any use case where you don't have full control of the loaded file. Please open an issue on GitHub for any issues related to this experimental feature.\n",
            "  best_model_state = torch.load('CNN_model.pth', map_location='cpu')\n"
          ]
        },
        {
          "output_type": "stream",
          "name": "stdout",
          "text": [
            "-------------------------------------------------------\n",
            "Best model's accuracy: 70.9435846230654\n",
            "-------------------------------------------------------\n"
          ]
        }
      ],
      "source": [
        "# Load the best model state into the CNN model\n",
        "best_model_state = torch.load('CNN_model.pth', map_location='cpu')\n",
        "CNN_model.load_state_dict(best_model_state)\n",
        "\n",
        "CNN_model.to('cpu')\n",
        "\n",
        "device = torch.device('cpu')\n",
        "test_accuracy = Model_functions.test_model(CNN_model, test_loader, device)\n",
        "\n",
        "print('-------------------------------------------------------')\n",
        "print(f'Best model\\'s accuracy: {test_accuracy}')\n",
        "print('-------------------------------------------------------')\n"
      ]
    },
    {
      "cell_type": "code",
      "execution_count": 43,
      "metadata": {
        "id": "Ag9ykMP1V_MU",
        "outputId": "00c858b4-5112-41be-c537-c80c5fe59165",
        "colab": {
          "base_uri": "https://localhost:8080/",
          "height": 878
        }
      },
      "outputs": [
        {
          "output_type": "display_data",
          "data": {
            "text/plain": [
              "<Figure size 2400x1000 with 4 Axes>"
            ],
            "image/png": "[encoded data removed]"
          },
          "metadata": {}
        },
        {
          "output_type": "stream",
          "name": "stdout",
          "text": [
            "-------------------------------------------------------\n",
            "Classification Report:\n",
            "\n",
            "              precision    recall  f1-score   support\n",
            "\n",
            "         bkl       0.00      0.00      0.00        69\n",
            "          nv       0.37      0.46      0.41        93\n",
            "          df       0.41      0.40      0.40       228\n",
            "         mel       0.00      0.00      0.00        28\n",
            "        vasc       0.43      0.17      0.24       226\n",
            "         bcc       0.79      0.93      0.85      1338\n",
            "       akiec       1.00      0.10      0.17        21\n",
            "\n",
            "    accuracy                           0.71      2003\n",
            "   macro avg       0.43      0.29      0.30      2003\n",
            "weighted avg       0.65      0.71      0.66      2003\n",
            "\n",
            "-------------------------------------------------------\n"
          ]
        },
        {
          "output_type": "stream",
          "name": "stderr",
          "text": [
            "/usr/local/lib/python3.10/dist-packages/sklearn/metrics/_classification.py:1565: UndefinedMetricWarning: Precision is ill-defined and being set to 0.0 in labels with no predicted samples. Use `zero_division` parameter to control this behavior.\n",
            "  _warn_prf(average, modifier, f\"{metric.capitalize()} is\", len(result))\n",
            "/usr/local/lib/python3.10/dist-packages/sklearn/metrics/_classification.py:1565: UndefinedMetricWarning: Precision is ill-defined and being set to 0.0 in labels with no predicted samples. Use `zero_division` parameter to control this behavior.\n",
            "  _warn_prf(average, modifier, f\"{metric.capitalize()} is\", len(result))\n",
            "/usr/local/lib/python3.10/dist-packages/sklearn/metrics/_classification.py:1565: UndefinedMetricWarning: Precision is ill-defined and being set to 0.0 in labels with no predicted samples. Use `zero_division` parameter to control this behavior.\n",
            "  _warn_prf(average, modifier, f\"{metric.capitalize()} is\", len(result))\n"
          ]
        }
      ],
      "source": [
        "Model_functions.conf_report(CNN_model, test_loader, 'CNN_from_scratch')"
      ]
    },
    {
      "cell_type": "code",
      "execution_count": null,
      "metadata": {
        "id": "KLqrRyaiV_MZ"
      },
      "outputs": [],
      "source": []
    }
  ],
  "metadata": {
    "kernelspec": {
      "display_name": "Python 3",
      "name": "python3"
    },
    "language_info": {
      "codemirror_mode": {
        "name": "ipython",
        "version": 3
      },
      "file_extension": ".py",
      "mimetype": "text/x-python",
      "name": "python",
      "nbconvert_exporter": "python",
      "pygments_lexer": "ipython3",
      "version": "3.11.2"
    },
    "colab": {
      "provenance": [],
      "gpuType": "T4"
    },
    "accelerator": "GPU",
    "widgets": {
      "application/vnd.jupyter.widget-state+json": {
        "1164edfc640e434391b4e1404721ea81": {
          "model_module": "@jupyter-widgets/controls",
          "model_name": "HBoxModel",
          "model_module_version": "1.5.0",
          "state": {
            "_dom_classes": [],
            "_model_module": "@jupyter-widgets/controls",
            "_model_module_version": "1.5.0",
            "_model_name": "HBoxModel",
            "_view_count": null,
            "_view_module": "@jupyter-widgets/controls",
            "_view_module_version": "1.5.0",
            "_view_name": "HBoxView",
            "box_style": "",
            "children": [
              "IPY_MODEL_3147c15e74af49cf81936bce4073f539",
              "IPY_MODEL_c20393e1a7074169a95057a3420ee8fc",
              "IPY_MODEL_c42958bb5d754aaa98d22646fe0cbeec"
            ],
            "layout": "IPY_MODEL_317a5d5ac2664a9199dedb3d44d5ecb5"
          }
        },
        "3147c15e74af49cf81936bce4073f539": {
          "model_module": "@jupyter-widgets/controls",
          "model_name": "HTMLModel",
          "model_module_version": "1.5.0",
          "state": {
            "_dom_classes": [],
            "_model_module": "@jupyter-widgets/controls",
            "_model_module_version": "1.5.0",
            "_model_name": "HTMLModel",
            "_view_count": null,
            "_view_module": "@jupyter-widgets/controls",
            "_view_module_version": "1.5.0",
            "_view_name": "HTMLView",
            "description": "",
            "description_tooltip": null,
            "layout": "IPY_MODEL_4834677b861b4996ada33efe6f40de63",
            "placeholder": "​",
            "style": "IPY_MODEL_967cb926683f4ce68673bc6462bd9cc9",
            "value": "Best trial: 2. Best value: 42.8571: 100%"
          }
        },
        "c20393e1a7074169a95057a3420ee8fc": {
          "model_module": "@jupyter-widgets/controls",
          "model_name": "FloatProgressModel",
          "model_module_version": "1.5.0",
          "state": {
            "_dom_classes": [],
            "_model_module": "@jupyter-widgets/controls",
            "_model_module_version": "1.5.0",
            "_model_name": "FloatProgressModel",
            "_view_count": null,
            "_view_module": "@jupyter-widgets/controls",
            "_view_module_version": "1.5.0",
            "_view_name": "ProgressView",
            "bar_style": "success",
            "description": "",
            "description_tooltip": null,
            "layout": "IPY_MODEL_8ab365359a58408980830d7734a2c15f",
            "max": 10,
            "min": 0,
            "orientation": "horizontal",
            "style": "IPY_MODEL_5874ed6ab0bf404ea4ed9181dedb7a89",
            "value": 10
          }
        },
        "c42958bb5d754aaa98d22646fe0cbeec": {
          "model_module": "@jupyter-widgets/controls",
          "model_name": "HTMLModel",
          "model_module_version": "1.5.0",
          "state": {
            "_dom_classes": [],
            "_model_module": "@jupyter-widgets/controls",
            "_model_module_version": "1.5.0",
            "_model_name": "HTMLModel",
            "_view_count": null,
            "_view_module": "@jupyter-widgets/controls",
            "_view_module_version": "1.5.0",
            "_view_name": "HTMLView",
            "description": "",
            "description_tooltip": null,
            "layout": "IPY_MODEL_f7de09ffbfb74b15a015d513ecbb6f26",
            "placeholder": "​",
            "style": "IPY_MODEL_d8c96084ec114751b66e1ff83e49a649",
            "value": " 10/10 [31:39&lt;00:00, 184.68s/it]"
          }
        },
        "317a5d5ac2664a9199dedb3d44d5ecb5": {
          "model_module": "@jupyter-widgets/base",
          "model_name": "LayoutModel",
          "model_module_version": "1.2.0",
          "state": {
            "_model_module": "@jupyter-widgets/base",
            "_model_module_version": "1.2.0",
            "_model_name": "LayoutModel",
            "_view_count": null,
            "_view_module": "@jupyter-widgets/base",
            "_view_module_version": "1.2.0",
            "_view_name": "LayoutView",
            "align_content": null,
            "align_items": null,
            "align_self": null,
            "border": null,
            "bottom": null,
            "display": null,
            "flex": null,
            "flex_flow": null,
            "grid_area": null,
            "grid_auto_columns": null,
            "grid_auto_flow": null,
            "grid_auto_rows": null,
            "grid_column": null,
            "grid_gap": null,
            "grid_row": null,
            "grid_template_areas": null,
            "grid_template_columns": null,
            "grid_template_rows": null,
            "height": null,
            "justify_content": null,
            "justify_items": null,
            "left": null,
            "margin": null,
            "max_height": null,
            "max_width": null,
            "min_height": null,
            "min_width": null,
            "object_fit": null,
            "object_position": null,
            "order": null,
            "overflow": null,
            "overflow_x": null,
            "overflow_y": null,
            "padding": null,
            "right": null,
            "top": null,
            "visibility": null,
            "width": null
          }
        },
        "4834677b861b4996ada33efe6f40de63": {
          "model_module": "@jupyter-widgets/base",
          "model_name": "LayoutModel",
          "model_module_version": "1.2.0",
          "state": {
            "_model_module": "@jupyter-widgets/base",
            "_model_module_version": "1.2.0",
            "_model_name": "LayoutModel",
            "_view_count": null,
            "_view_module": "@jupyter-widgets/base",
            "_view_module_version": "1.2.0",
            "_view_name": "LayoutView",
            "align_content": null,
            "align_items": null,
            "align_self": null,
            "border": null,
            "bottom": null,
            "display": null,
            "flex": null,
            "flex_flow": null,
            "grid_area": null,
            "grid_auto_columns": null,
            "grid_auto_flow": null,
            "grid_auto_rows": null,
            "grid_column": null,
            "grid_gap": null,
            "grid_row": null,
            "grid_template_areas": null,
            "grid_template_columns": null,
            "grid_template_rows": null,
            "height": null,
            "justify_content": null,
            "justify_items": null,
            "left": null,
            "margin": null,
            "max_height": null,
            "max_width": null,
            "min_height": null,
            "min_width": null,
            "object_fit": null,
            "object_position": null,
            "order": null,
            "overflow": null,
            "overflow_x": null,
            "overflow_y": null,
            "padding": null,
            "right": null,
            "top": null,
            "visibility": null,
            "width": null
          }
        },
        "967cb926683f4ce68673bc6462bd9cc9": {
          "model_module": "@jupyter-widgets/controls",
          "model_name": "DescriptionStyleModel",
          "model_module_version": "1.5.0",
          "state": {
            "_model_module": "@jupyter-widgets/controls",
            "_model_module_version": "1.5.0",
            "_model_name": "DescriptionStyleModel",
            "_view_count": null,
            "_view_module": "@jupyter-widgets/base",
            "_view_module_version": "1.2.0",
            "_view_name": "StyleView",
            "description_width": ""
          }
        },
        "8ab365359a58408980830d7734a2c15f": {
          "model_module": "@jupyter-widgets/base",
          "model_name": "LayoutModel",
          "model_module_version": "1.2.0",
          "state": {
            "_model_module": "@jupyter-widgets/base",
            "_model_module_version": "1.2.0",
            "_model_name": "LayoutModel",
            "_view_count": null,
            "_view_module": "@jupyter-widgets/base",
            "_view_module_version": "1.2.0",
            "_view_name": "LayoutView",
            "align_content": null,
            "align_items": null,
            "align_self": null,
            "border": null,
            "bottom": null,
            "display": null,
            "flex": null,
            "flex_flow": null,
            "grid_area": null,
            "grid_auto_columns": null,
            "grid_auto_flow": null,
            "grid_auto_rows": null,
            "grid_column": null,
            "grid_gap": null,
            "grid_row": null,
            "grid_template_areas": null,
            "grid_template_columns": null,
            "grid_template_rows": null,
            "height": null,
            "justify_content": null,
            "justify_items": null,
            "left": null,
            "margin": null,
            "max_height": null,
            "max_width": null,
            "min_height": null,
            "min_width": null,
            "object_fit": null,
            "object_position": null,
            "order": null,
            "overflow": null,
            "overflow_x": null,
            "overflow_y": null,
            "padding": null,
            "right": null,
            "top": null,
            "visibility": null,
            "width": null
          }
        },
        "5874ed6ab0bf404ea4ed9181dedb7a89": {
          "model_module": "@jupyter-widgets/controls",
          "model_name": "ProgressStyleModel",
          "model_module_version": "1.5.0",
          "state": {
            "_model_module": "@jupyter-widgets/controls",
            "_model_module_version": "1.5.0",
            "_model_name": "ProgressStyleModel",
            "_view_count": null,
            "_view_module": "@jupyter-widgets/base",
            "_view_module_version": "1.2.0",
            "_view_name": "StyleView",
            "bar_color": null,
            "description_width": ""
          }
        },
        "f7de09ffbfb74b15a015d513ecbb6f26": {
          "model_module": "@jupyter-widgets/base",
          "model_name": "LayoutModel",
          "model_module_version": "1.2.0",
          "state": {
            "_model_module": "@jupyter-widgets/base",
            "_model_module_version": "1.2.0",
            "_model_name": "LayoutModel",
            "_view_count": null,
            "_view_module": "@jupyter-widgets/base",
            "_view_module_version": "1.2.0",
            "_view_name": "LayoutView",
            "align_content": null,
            "align_items": null,
            "align_self": null,
            "border": null,
            "bottom": null,
            "display": null,
            "flex": null,
            "flex_flow": null,
            "grid_area": null,
            "grid_auto_columns": null,
            "grid_auto_flow": null,
            "grid_auto_rows": null,
            "grid_column": null,
            "grid_gap": null,
            "grid_row": null,
            "grid_template_areas": null,
            "grid_template_columns": null,
            "grid_template_rows": null,
            "height": null,
            "justify_content": null,
            "justify_items": null,
            "left": null,
            "margin": null,
            "max_height": null,
            "max_width": null,
            "min_height": null,
            "min_width": null,
            "object_fit": null,
            "object_position": null,
            "order": null,
            "overflow": null,
            "overflow_x": null,
            "overflow_y": null,
            "padding": null,
            "right": null,
            "top": null,
            "visibility": null,
            "width": null
          }
        },
        "d8c96084ec114751b66e1ff83e49a649": {
          "model_module": "@jupyter-widgets/controls",
          "model_name": "DescriptionStyleModel",
          "model_module_version": "1.5.0",
          "state": {
            "_model_module": "@jupyter-widgets/controls",
            "_model_module_version": "1.5.0",
            "_model_name": "DescriptionStyleModel",
            "_view_count": null,
            "_view_module": "@jupyter-widgets/base",
            "_view_module_version": "1.2.0",
            "_view_name": "StyleView",
            "description_width": ""
          }
        }
      }
    }
  },
  "nbformat": 4,
  "nbformat_minor": 0
}